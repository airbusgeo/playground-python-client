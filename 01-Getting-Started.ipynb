{
 "cells": [
  {
   "cell_type": "markdown",
   "metadata": {},
   "source": [
    "# Getting started with the Playground API\n",
    "This Notebook shows how to connect to the Intelligence Playground Python Client API and do amazing stuff!"
   ]
  },
  {
   "cell_type": "code",
   "execution_count": 2,
   "metadata": {},
   "outputs": [],
   "source": [
    "# Install some extra python module if needed...\n",
    "#!pip install mercantile geohash2 geojson shapely ipywidgets ipyleaflet"
   ]
  },
  {
   "cell_type": "code",
   "execution_count": 3,
   "metadata": {},
   "outputs": [],
   "source": [
    "# Standard imports\n",
    "import os\n",
    "import matplotlib.pyplot as plt\n",
    "import cv2\n",
    "from PIL import Image\n",
    "import numpy as np\n",
    "from skimage import exposure, color, img_as_ubyte\n",
    "import mercantile\n",
    "import requests\n",
    "import csv\n",
    "import uuid\n",
    "import json\n",
    "import geohash2\n",
    "import uuid\n",
    "import warnings\n",
    "import geojson\n",
    "import time\n",
    "warnings.filterwarnings(\"ignore\")\n",
    "\n",
    "from shapely.geometry import mapping, shape\n",
    "\n",
    "# Widgets imports\n",
    "from ipyleaflet import Map, TileLayer, Polygon\n",
    "import ipywidgets as widgets\n",
    "from IPython.core.display import HTML"
   ]
  },
  {
   "cell_type": "markdown",
   "metadata": {},
   "source": [
    "## Connecting to the API\n",
    "\n",
    "To connect to the API, you need to retrieve your API_KEYS from the OneAtlas website. Follow the simple steps below:\n",
    "\n",
    "1. Visit this URL: https://data.api.oneatlas.airbus.com/api-keys\n",
    "2. Click the **Create and API key** button\n",
    "3. Enter a description for your API_KEY (e.g. Playground Keys)\n",
    "4. Store the file in the same folder than this notebook and name it **api_key.txt**\n",
    "\n",
    "Make sure to keep your **api_key.txt** safe! Do not include it in a public github repository for example :-)\n",
    "\n",
    "The following script will then use this **api_key.txt** file to generate an ACCESS_TOKEN. We will store this ACCESS_TOKEN in HEADERS that we will send with each requests. The ACCESS_TOKEN has a timeout so we will create a function that renew the ACCESS_TOKEN when half of the timeout has expired. "
   ]
  },
  {
   "cell_type": "code",
   "execution_count": 4,
   "metadata": {},
   "outputs": [],
   "source": [
    "# Create a PlaygroundClient object\n",
    "from playgroundclient import PlaygroundClient\n",
    "play = PlaygroundClient()"
   ]
  },
  {
   "cell_type": "markdown",
   "metadata": {},
   "source": [
    "## Some useful functions"
   ]
  },
  {
   "cell_type": "code",
   "execution_count": 5,
   "metadata": {},
   "outputs": [],
   "source": [
    "def print_json(parsed):\n",
    "    print(json.dumps(parsed, indent=4, sort_keys=True))\n",
    "    \n",
    "def getBounds(coords):\n",
    "    xmax = ymax = -np.Infinity\n",
    "    xmin = ymin = np.Infinity\n",
    "    for v in coords:\n",
    "        xmax = xmax if xmax > v[0] else v[0]\n",
    "        ymax = ymax if ymax > v[1] else v[1]\n",
    "        xmin = xmin if xmin < v[0] else v[0]\n",
    "        ymin = ymin if ymin < v[1] else v[1]\n",
    "    return (xmin, ymin, xmax, ymax)\n"
   ]
  },
  {
   "cell_type": "markdown",
   "metadata": {},
   "source": [
    "## Now start using them!"
   ]
  },
  {
   "cell_type": "code",
   "execution_count": 6,
   "metadata": {},
   "outputs": [
    {
     "name": "stdout",
     "output_type": "stream",
     "text": [
      "Logged as user: Jean-Francois Faudi\n"
     ]
    }
   ],
   "source": [
    "# Logged in user\n",
    "user = play.get_logged_user()\n",
    "print(\"Logged as user: {} {}\".format(user['firstname'], user['lastname']))"
   ]
  },
  {
   "cell_type": "markdown",
   "metadata": {},
   "source": [
    "## Get available projects for this user"
   ]
  },
  {
   "cell_type": "code",
   "execution_count": 11,
   "metadata": {},
   "outputs": [
    {
     "data": {
      "application/vnd.jupyter.widget-view+json": {
       "model_id": "657b46ff962c4fe0ac854c68d0c64c75",
       "version_major": 2,
       "version_minor": 0
      },
      "text/plain": [
       "Dropdown(description='Project:', options=(('Airbus', '1a50823a-d9c1-4397-8b64-1c8079d6c7eb'), ('Airbus NA', 'e…"
      ]
     },
     "metadata": {},
     "output_type": "display_data"
    }
   ],
   "source": [
    "p_database = {}\n",
    "p_label = []\n",
    "r = play.get_projects()\n",
    "#print(r)\n",
    "for project in r:\n",
    "    #print(process)\n",
    "    project_id = project['project_id']\n",
    "    p_label.append((project['name'], project_id))\n",
    "    p_database[project_id] = project\n",
    "    \n",
    "p_label.sort() \n",
    "p_w = widgets.Dropdown(\n",
    "    options=p_label,\n",
    "    description='Project:',\n",
    "    disabled=False\n",
    ")\n",
    "display(p_w)"
   ]
  },
  {
   "cell_type": "markdown",
   "metadata": {},
   "source": [
    "## Get available datasets in this project"
   ]
  },
  {
   "cell_type": "code",
   "execution_count": 10,
   "metadata": {},
   "outputs": [
    {
     "data": {
      "application/vnd.jupyter.widget-view+json": {
       "model_id": "a5c02a058ef649b28788d45c8032911d",
       "version_major": 2,
       "version_minor": 0
      },
      "text/plain": [
       "Dropdown(description='Dataset:', options=(('Military Airbases', '6fac0304-cd87-4be6-9e81-e2787a0f03c7'), ('OI …"
      ]
     },
     "metadata": {},
     "output_type": "display_data"
    }
   ],
   "source": [
    "projectId = p_w.value\n",
    "\n",
    "d_database = {}\n",
    "d_label = []\n",
    "r = play.get_datasets(projectId)\n",
    "#print_json(r)\n",
    "for dataset in r['datasets']:\n",
    "    #print_json(dataset)\n",
    "    dataset_id = dataset['datasetId']\n",
    "    d_label.append((dataset['name'], dataset_id))\n",
    "    d_database[dataset_id] = dataset\n",
    "    \n",
    "d_label.sort() \n",
    "d_w = widgets.Dropdown(\n",
    "    options=d_label,\n",
    "    description='Dataset:',\n",
    "    disabled=False\n",
    ")\n",
    "display(d_w)"
   ]
  },
  {
   "cell_type": "code",
   "execution_count": 11,
   "metadata": {},
   "outputs": [
    {
     "name": "stdout",
     "output_type": "stream",
     "text": [
      "This dataset contains 95 zones.\n",
      "This dataset contains 96692 records.\n"
     ]
    }
   ],
   "source": [
    "# Dataset\n",
    "datasetId = d_w.value\n",
    "\n",
    "# display information about this dataset\n",
    "r = play.get_dataset(datasetId)\n",
    "#print_json(r)\n",
    "print(\"This dataset contains {} zones.\".format(r['zones']))\n",
    "print(\"This dataset contains {} records.\".format(r['records']))"
   ]
  },
  {
   "cell_type": "code",
   "execution_count": 12,
   "metadata": {},
   "outputs": [
    {
     "data": {
      "application/vnd.jupyter.widget-view+json": {
       "model_id": "d7ccc3d1e53a4270a3517aae44557356",
       "version_major": 2,
       "version_minor": 0
      },
      "text/plain": [
       "Dropdown(description='Zones:', options=(('091. Russia - Chelyabinsk Oblast 1', '18c31654-070b-4b34-b7f2-e4a115…"
      ]
     },
     "metadata": {},
     "output_type": "display_data"
    }
   ],
   "source": [
    "z_database = {}\n",
    "z_label = []\n",
    "zones = play.get_zones_in_dataset(datasetId)\n",
    "#print_json(zones)\n",
    "for zone in zones:\n",
    "    zone_id = zone['zone_id']\n",
    "    z_label.append((zone['name'], zone_id))\n",
    "    z_database[zone_id] = zone\n",
    "    \n",
    "z_label.sort() \n",
    "z_w = widgets.Dropdown(\n",
    "    options=z_label,\n",
    "    description='Zones:',\n",
    "    disabled=False\n",
    ")\n",
    "display(z_w)"
   ]
  },
  {
   "cell_type": "markdown",
   "metadata": {},
   "source": [
    "## Get zone bounding box"
   ]
  },
  {
   "cell_type": "code",
   "execution_count": 14,
   "metadata": {},
   "outputs": [
    {
     "name": "stdout",
     "output_type": "stream",
     "text": [
      "Zone_ID=18c31654-070b-4b34-b7f2-e4a1159ae57c\n",
      "{\n",
      "    \"created_at\": \"2018-03-30T08:48:16.495125\",\n",
      "    \"dataset_id\": \"6fac0304-cd87-4be6-9e81-e2787a0f03c7\",\n",
      "    \"description\": \"\",\n",
      "    \"geom\": {\n",
      "        \"coordinates\": [\n",
      "            [\n",
      "                [\n",
      "                    61.272125,\n",
      "                    55.272857\n",
      "                ],\n",
      "                [\n",
      "                    61.272125,\n",
      "                    55.243901\n",
      "                ],\n",
      "                [\n",
      "                    61.322937,\n",
      "                    55.243901\n",
      "                ],\n",
      "                [\n",
      "                    61.322937,\n",
      "                    55.272857\n",
      "                ],\n",
      "                [\n",
      "                    61.272125,\n",
      "                    55.272857\n",
      "                ]\n",
      "            ]\n",
      "        ],\n",
      "        \"type\": \"Polygon\"\n",
      "    },\n",
      "    \"image_2_id\": null,\n",
      "    \"image_id\": \"dab9034be997398def9660bd97e39568bceb1787\",\n",
      "    \"name\": \"091. Russia - Chelyabinsk Oblast 1\",\n",
      "    \"status\": \"LABELLIZED\",\n",
      "    \"zone_id\": \"18c31654-070b-4b34-b7f2-e4a1159ae57c\"\n",
      "}\n",
      "[\n",
      "    [\n",
      "        61.272125,\n",
      "        55.272857\n",
      "    ],\n",
      "    [\n",
      "        61.272125,\n",
      "        55.243901\n",
      "    ],\n",
      "    [\n",
      "        61.322937,\n",
      "        55.243901\n",
      "    ],\n",
      "    [\n",
      "        61.322937,\n",
      "        55.272857\n",
      "    ],\n",
      "    [\n",
      "        61.272125,\n",
      "        55.272857\n",
      "    ]\n",
      "]\n"
     ]
    }
   ],
   "source": [
    "zone_id = z_w.value\n",
    "print(\"Zone_ID={}\".format(zone_id))\n",
    "print_json(z_database[zone_id])\n",
    "print_json(z_database[zone_id]['geom']['coordinates'][0])"
   ]
  },
  {
   "cell_type": "markdown",
   "metadata": {},
   "source": [
    "## Get records in zone"
   ]
  },
  {
   "cell_type": "code",
   "execution_count": 15,
   "metadata": {},
   "outputs": [
    {
     "name": "stdout",
     "output_type": "stream",
     "text": [
      "This zone contains 85 records.\n"
     ]
    }
   ],
   "source": [
    "bounds = getBounds(z_database[zone_id]['geom']['coordinates'][0])\n",
    "bbox = \",\".join(map(str, bounds))\n",
    "r = play.get_records_count_in_zone(zone_id, bbox)\n",
    "#print_json(r)\n",
    "print(\"This zone contains {} records.\".format(r['count']))"
   ]
  }
 ],
 "metadata": {
  "kernelspec": {
   "display_name": "Python 3",
   "language": "python",
   "name": "python3"
  },
  "language_info": {
   "codemirror_mode": {
    "name": "ipython",
    "version": 3
   },
   "file_extension": ".py",
   "mimetype": "text/x-python",
   "name": "python",
   "nbconvert_exporter": "python",
   "pygments_lexer": "ipython3",
   "version": "3.7.4"
  }
 },
 "nbformat": 4,
 "nbformat_minor": 4
}
