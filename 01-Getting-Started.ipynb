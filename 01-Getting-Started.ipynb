{
 "cells": [
  {
   "cell_type": "markdown",
   "metadata": {},
   "source": [
    "# Getting started with the Playground API\n",
    "This Notebook shows how to connect to the Intelligence Playground Python Client API and do amazing stuff!"
   ]
  },
  {
   "cell_type": "code",
   "execution_count": 2,
   "metadata": {},
   "outputs": [],
   "source": [
    "# Install some extra python module if needed...\n",
    "#!pip install -r requirements.txt"
   ]
  },
  {
   "cell_type": "code",
   "execution_count": 2,
   "metadata": {},
   "outputs": [],
   "source": [
    "# Standard imports\n",
    "import os\n",
    "import matplotlib.pyplot as plt\n",
    "import cv2\n",
    "from PIL import Image\n",
    "import numpy as np\n",
    "import mercantile\n",
    "import requests\n",
    "import csv\n",
    "import uuid\n",
    "import json\n",
    "import geohash2\n",
    "import uuid\n",
    "import warnings\n",
    "import geojson\n",
    "import time\n",
    "warnings.filterwarnings(\"ignore\")\n",
    "\n",
    "from shapely.geometry import mapping, shape\n",
    "\n",
    "# Widgets imports\n",
    "from ipyleaflet import Map, TileLayer, Polygon\n",
    "import ipywidgets as widgets\n",
    "from IPython.core.display import HTML"
   ]
  },
  {
   "cell_type": "markdown",
   "metadata": {},
   "source": [
    "## Connecting to the API\n",
    "\n",
    "To connect to the API, you need to retrieve your API_KEYS from the OneAtlas website. Follow the simple steps below:\n",
    "\n",
    "1. Visit this URL: https://data.api.oneatlas.airbus.com/api-keys\n",
    "2. Click the **Create and API key** button\n",
    "3. Enter a description for your API_KEY (e.g. Playground Keys)\n",
    "4. Store the file in the same folder than this notebook and name it **api_key.txt**\n",
    "\n",
    "Make sure to keep your **api_key.txt** safe! Do not include it in a public github repository for example :-)\n",
    "\n",
    "The following script will then use this **api_key.txt** file to generate an ACCESS_TOKEN. We will store this ACCESS_TOKEN in HEADERS that we will send with each requests. The ACCESS_TOKEN has a timeout so we will create a function that renew the ACCESS_TOKEN when half of the timeout has expired. "
   ]
  },
  {
   "cell_type": "markdown",
   "metadata": {},
   "source": [
    "## Check connection"
   ]
  },
  {
   "cell_type": "code",
   "execution_count": 5,
   "metadata": {},
   "outputs": [],
   "source": [
    "# Create a PlaygroundClient object\n",
    "from playgroundclient import PlaygroundClient\n",
    "play = PlaygroundClient()"
   ]
  },
  {
   "cell_type": "code",
   "execution_count": 6,
   "metadata": {},
   "outputs": [
    {
     "name": "stdout",
     "output_type": "stream",
     "text": [
      "Logged as user: Jean-Francois Faudi\n"
     ]
    }
   ],
   "source": [
    "# Logged in user\n",
    "user = play.get_logged_user()\n",
    "print(\"Logged as user: {} {}\".format(user['firstname'], user['lastname']))"
   ]
  },
  {
   "cell_type": "markdown",
   "metadata": {},
   "source": [
    "## Some useful functions"
   ]
  },
  {
   "cell_type": "code",
   "execution_count": 7,
   "metadata": {},
   "outputs": [],
   "source": [
    "def print_json(parsed):\n",
    "    print(json.dumps(parsed, indent=4, sort_keys=True))\n",
    "    \n",
    "def getBounds(coords):\n",
    "    xmax = ymax = -np.Infinity\n",
    "    xmin = ymin = np.Infinity\n",
    "    for v in coords:\n",
    "        xmax = xmax if xmax > v[0] else v[0]\n",
    "        ymax = ymax if ymax > v[1] else v[1]\n",
    "        xmin = xmin if xmin < v[0] else v[0]\n",
    "        ymin = ymin if ymin < v[1] else v[1]\n",
    "    return (xmin, ymin, xmax, ymax)\n"
   ]
  },
  {
   "cell_type": "markdown",
   "metadata": {},
   "source": [
    "## Get available projects for this user"
   ]
  },
  {
   "cell_type": "code",
   "execution_count": 8,
   "metadata": {},
   "outputs": [
    {
     "data": {
      "application/vnd.jupyter.widget-view+json": {
       "model_id": "d409d456834f41f28686ea0bd22a67f6",
       "version_major": 2,
       "version_minor": 0
      },
      "text/plain": [
       "Dropdown(description='Project:', options=(('Airbus NA', 'e84b4d54-4c99-4527-8be7-927a11a73897'), ('Airbus NA -…"
      ]
     },
     "metadata": {},
     "output_type": "display_data"
    }
   ],
   "source": [
    "p_database = {}\n",
    "p_label = []\n",
    "r = play.get_projects()\n",
    "#print(r)\n",
    "for project in r:\n",
    "    #print(process)\n",
    "    project_id = project['project_id']\n",
    "    p_label.append((project['name'], project_id))\n",
    "    p_database[project_id] = project\n",
    "    \n",
    "p_label.sort() \n",
    "p_w = widgets.Dropdown(\n",
    "    options=p_label,\n",
    "    description='Project:',\n",
    "    disabled=False\n",
    ")\n",
    "display(p_w)"
   ]
  },
  {
   "cell_type": "markdown",
   "metadata": {},
   "source": [
    "## Get available datasets in this project"
   ]
  },
  {
   "cell_type": "code",
   "execution_count": 9,
   "metadata": {},
   "outputs": [
    {
     "data": {
      "application/vnd.jupyter.widget-view+json": {
       "model_id": "dc2b03a44d4a4e498cdcde9e35fcb64b",
       "version_major": 2,
       "version_minor": 0
      },
      "text/plain": [
       "Dropdown(description='Dataset:', options=(('Airports demo', 'b5b41429-3399-4599-953d-3fbbb53d9488'), ('GC', '4…"
      ]
     },
     "metadata": {},
     "output_type": "display_data"
    }
   ],
   "source": [
    "projectId = p_w.value\n",
    "\n",
    "d_database = {}\n",
    "d_label = []\n",
    "r = play.get_datasets(projectId)\n",
    "#print_json(r)\n",
    "for dataset in r['datasets']:\n",
    "    #print_json(dataset)\n",
    "    dataset_id = dataset['datasetId']\n",
    "    d_label.append((dataset['name'], dataset_id))\n",
    "    d_database[dataset_id] = dataset\n",
    "    \n",
    "d_label.sort() \n",
    "d_w = widgets.Dropdown(\n",
    "    options=d_label,\n",
    "    description='Dataset:',\n",
    "    disabled=False\n",
    ")\n",
    "display(d_w)"
   ]
  },
  {
   "cell_type": "code",
   "execution_count": 10,
   "metadata": {},
   "outputs": [
    {
     "name": "stdout",
     "output_type": "stream",
     "text": [
      "This dataset contains 10 zones.\n",
      "This dataset contains 1568 records.\n"
     ]
    }
   ],
   "source": [
    "# Dataset\n",
    "datasetId = d_w.value\n",
    "\n",
    "# display information about this dataset\n",
    "r = play.get_dataset(datasetId)\n",
    "#print_json(r)\n",
    "print(\"This dataset contains {} zones.\".format(r['zones']))\n",
    "print(\"This dataset contains {} records.\".format(r['records']))"
   ]
  },
  {
   "cell_type": "code",
   "execution_count": 11,
   "metadata": {},
   "outputs": [
    {
     "data": {
      "application/vnd.jupyter.widget-view+json": {
       "model_id": "ee455e2b372346078b6e82218c695e17",
       "version_major": 2,
       "version_minor": 0
      },
      "text/plain": [
       "Dropdown(description='Zones:', options=(('Nouvelle-Aquitaine, France', '3951a03c-60c2-4ff9-977d-eb038837c51e')…"
      ]
     },
     "metadata": {},
     "output_type": "display_data"
    }
   ],
   "source": [
    "z_database = {}\n",
    "z_label = []\n",
    "zones = play.get_zones_in_dataset(datasetId)\n",
    "#print_json(zones)\n",
    "for zone in zones:\n",
    "    zone_id = zone['zone_id']\n",
    "    z_label.append((zone['name'], zone_id))\n",
    "    z_database[zone_id] = zone\n",
    "    \n",
    "z_label.sort() \n",
    "z_w = widgets.Dropdown(\n",
    "    options=z_label,\n",
    "    description='Zones:',\n",
    "    disabled=False\n",
    ")\n",
    "display(z_w)"
   ]
  },
  {
   "cell_type": "markdown",
   "metadata": {},
   "source": [
    "## Get zone bounding box"
   ]
  },
  {
   "cell_type": "code",
   "execution_count": 14,
   "metadata": {},
   "outputs": [
    {
     "name": "stdout",
     "output_type": "stream",
     "text": [
      "Zone_ID=99555067-be79-4ea4-8a9d-ed11076bca55\n",
      "{\n",
      "    \"created_at\": \"2019-06-04T13:38:08.549629Z\",\n",
      "    \"dataset_id\": \"b5b41429-3399-4599-953d-3fbbb53d9488\",\n",
      "    \"description\": null,\n",
      "    \"geom\": {\n",
      "        \"coordinates\": [\n",
      "            [\n",
      "                [\n",
      "                    -0.751896,\n",
      "                    44.818977\n",
      "                ],\n",
      "                [\n",
      "                    -0.727501,\n",
      "                    44.82763\n",
      "                ],\n",
      "                [\n",
      "                    -0.751896,\n",
      "                    44.829865\n",
      "                ],\n",
      "                [\n",
      "                    -0.751896,\n",
      "                    44.844888\n",
      "                ],\n",
      "                [\n",
      "                    -0.716858,\n",
      "                    44.834448\n",
      "                ],\n",
      "                [\n",
      "                    -0.648537,\n",
      "                    44.884093\n",
      "                ],\n",
      "                [\n",
      "                    -0.611801,\n",
      "                    44.867063\n",
      "                ],\n",
      "                [\n",
      "                    -0.698662,\n",
      "                    44.830552\n",
      "                ],\n",
      "                [\n",
      "                    -0.601502,\n",
      "                    44.826169\n",
      "                ],\n",
      "                [\n",
      "                    -0.601845,\n",
      "                    44.801814\n",
      "                ],\n",
      "                [\n",
      "                    -0.708962,\n",
      "                    44.823491\n",
      "                ],\n",
      "                [\n",
      "                    -0.751896,\n",
      "                    44.794432\n",
      "                ],\n",
      "                [\n",
      "                    -0.751896,\n",
      "                    44.818977\n",
      "                ]\n",
      "            ]\n",
      "        ],\n",
      "        \"type\": \"Polygon\"\n",
      "    },\n",
      "    \"image_2_id\": \"0239d2b5b73f87dfd1137a1e1d6be666ef9ca8a9\",\n",
      "    \"image_id\": \"60ee9a64e3ed2194919b5359fca1594a80d8461c\",\n",
      "    \"name\": \"job_2019-06-04_Bordeaux\",\n",
      "    \"status\": \"RESERVED\",\n",
      "    \"zone_id\": \"99555067-be79-4ea4-8a9d-ed11076bca55\"\n",
      "}\n",
      "[\n",
      "    [\n",
      "        -0.751896,\n",
      "        44.818977\n",
      "    ],\n",
      "    [\n",
      "        -0.727501,\n",
      "        44.82763\n",
      "    ],\n",
      "    [\n",
      "        -0.751896,\n",
      "        44.829865\n",
      "    ],\n",
      "    [\n",
      "        -0.751896,\n",
      "        44.844888\n",
      "    ],\n",
      "    [\n",
      "        -0.716858,\n",
      "        44.834448\n",
      "    ],\n",
      "    [\n",
      "        -0.648537,\n",
      "        44.884093\n",
      "    ],\n",
      "    [\n",
      "        -0.611801,\n",
      "        44.867063\n",
      "    ],\n",
      "    [\n",
      "        -0.698662,\n",
      "        44.830552\n",
      "    ],\n",
      "    [\n",
      "        -0.601502,\n",
      "        44.826169\n",
      "    ],\n",
      "    [\n",
      "        -0.601845,\n",
      "        44.801814\n",
      "    ],\n",
      "    [\n",
      "        -0.708962,\n",
      "        44.823491\n",
      "    ],\n",
      "    [\n",
      "        -0.751896,\n",
      "        44.794432\n",
      "    ],\n",
      "    [\n",
      "        -0.751896,\n",
      "        44.818977\n",
      "    ]\n",
      "]\n"
     ]
    }
   ],
   "source": [
    "zone_id = z_w.value\n",
    "print(\"Zone_ID={}\".format(zone_id))\n",
    "print_json(z_database[zone_id])\n",
    "print_json(z_database[zone_id]['geom']['coordinates'][0])"
   ]
  },
  {
   "cell_type": "markdown",
   "metadata": {},
   "source": [
    "## Get records in zone"
   ]
  },
  {
   "cell_type": "code",
   "execution_count": 15,
   "metadata": {},
   "outputs": [
    {
     "name": "stdout",
     "output_type": "stream",
     "text": [
      "This zone contains 322 records.\n"
     ]
    }
   ],
   "source": [
    "bounds = getBounds(z_database[zone_id]['geom']['coordinates'][0])\n",
    "bbox = \",\".join(map(str, bounds))\n",
    "r = play.get_records_count_in_zone(zone_id, bbox)\n",
    "#print_json(r)\n",
    "print(\"This zone contains {} records.\".format(r['count']))"
   ]
  },
  {
   "cell_type": "code",
   "execution_count": null,
   "metadata": {},
   "outputs": [],
   "source": []
  }
 ],
 "metadata": {
  "kernelspec": {
   "display_name": "Python 3",
   "language": "python",
   "name": "python3"
  },
  "language_info": {
   "codemirror_mode": {
    "name": "ipython",
    "version": 3
   },
   "file_extension": ".py",
   "mimetype": "text/x-python",
   "name": "python",
   "nbconvert_exporter": "python",
   "pygments_lexer": "ipython3",
   "version": "3.6.9"
  }
 },
 "nbformat": 4,
 "nbformat_minor": 4
}
