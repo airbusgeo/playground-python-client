{
 "cells": [
  {
   "cell_type": "markdown",
   "metadata": {},
   "source": [
    "# Working with imagery\n",
    "This Notebook shows how to search, display, import and export imagery in the Playground."
   ]
  },
  {
   "cell_type": "code",
   "execution_count": 1,
   "metadata": {},
   "outputs": [],
   "source": [
    "# Standard imports\n",
    "import os\n",
    "import json\n",
    "import mercantile\n",
    "\n",
    "# Widgets imports\n",
    "from ipyleaflet import Map, TileLayer, Polygon, LayersControl, basemaps, basemap_to_tiles\n",
    "import ipywidgets as widgets\n",
    "from IPython.core.display import HTML"
   ]
  },
  {
   "cell_type": "markdown",
   "metadata": {},
   "source": [
    "## Connecting to the API\n",
    "\n",
    "To connect to the API, you need to retrieve your API_KEYS from the OneAtlas website. Follow the simple steps below:\n",
    "\n",
    "1. Visit this URL: https://data.api.oneatlas.airbus.com/api-keys\n",
    "2. Click the **Create and API key** button\n",
    "3. Enter a description for your API_KEY (e.g. Playground Keys)\n",
    "4. Store the file in the same folder than this notebook and name it **api_key.txt**\n",
    "\n",
    "Make sure to keep your **api_key.txt** safe! Do not include it in a public github repository for example :-)\n",
    "\n",
    "The following script will then use this **api_key.txt** file to generate an ACCESS_TOKEN. We will store this ACCESS_TOKEN in HEADERS that we will send with each requests. The ACCESS_TOKEN has a timeout so we will create a function that renew the ACCESS_TOKEN when half of the timeout has expired. "
   ]
  },
  {
   "cell_type": "code",
   "execution_count": 2,
   "metadata": {},
   "outputs": [],
   "source": [
    "# Create a PlaygroundClient object\n",
    "from playgroundclient import PlaygroundClient\n",
    "play = PlaygroundClient()"
   ]
  },
  {
   "cell_type": "markdown",
   "metadata": {},
   "source": [
    "## Some useful functions"
   ]
  },
  {
   "cell_type": "code",
   "execution_count": 3,
   "metadata": {},
   "outputs": [],
   "source": [
    "def print_json(parsed):\n",
    "    print(json.dumps(parsed, indent=4, sort_keys=True))\n",
    "    \n",
    "def getBounds(coords):\n",
    "    xmax = ymax = -np.Infinity\n",
    "    xmin = ymin = np.Infinity\n",
    "    for v in coords:\n",
    "        xmax = xmax if xmax > v[0] else v[0]\n",
    "        ymax = ymax if ymax > v[1] else v[1]\n",
    "        xmin = xmin if xmin < v[0] else v[0]\n",
    "        ymin = ymin if ymin < v[1] else v[1]\n",
    "    return (xmin, ymin, xmax, ymax)\n"
   ]
  },
  {
   "cell_type": "markdown",
   "metadata": {},
   "source": [
    "## Search for imagery"
   ]
  },
  {
   "cell_type": "code",
   "execution_count": 4,
   "metadata": {},
   "outputs": [
    {
     "name": "stdout",
     "output_type": "stream",
     "text": [
      "PLEIADES,SPOT,ZEPHYR,Sentinel-2,Deimos-2,TerraSAR-X,AERIAL\n"
     ]
    }
   ],
   "source": [
    "# Check which are the sensors that you can access\n",
    "r = play.check_available_sensors()\n",
    "SENSORS = r['constellation']\n",
    "print(SENSORS)"
   ]
  },
  {
   "cell_type": "code",
   "execution_count": 5,
   "metadata": {},
   "outputs": [
    {
     "data": {
      "application/vnd.jupyter.widget-view+json": {
       "model_id": "b7f51be1c97847a8a9500c3b32b496f1",
       "version_major": 2,
       "version_minor": 0
      },
      "text/plain": [
       "Dropdown(description='Images:', options=(('PLEIADES from 2016-09-22', '95e878942335216e74e88a9d9e2a97156870bfc…"
      ]
     },
     "metadata": {},
     "output_type": "display_data"
    }
   ],
   "source": [
    "BBOX = \"2.8,42.7,2.9,42.8\"\n",
    "SENSORS = 'PLEIADES,SPOT'\n",
    "\n",
    "images = play.get_images(BBOX, SENSORS)\n",
    "#print_json(images)\n",
    "\n",
    "i_database = {}\n",
    "i_label = []\n",
    "#print_json(images)\n",
    "for image in images['features']:\n",
    "    image_uid = image['id']\n",
    "    i_label.append((image['properties']['constellation'] + \" from \" + image['properties']['acquisitionDate'][0:10], image_uid))\n",
    "    i_database[image_uid] = image\n",
    "    \n",
    "i_label.sort() \n",
    "i_w = widgets.Dropdown(\n",
    "    options=i_label,\n",
    "    description='Images:',\n",
    "    disabled=False\n",
    ")\n",
    "display(i_w)"
   ]
  },
  {
   "cell_type": "code",
   "execution_count": 6,
   "metadata": {},
   "outputs": [
    {
     "name": "stdout",
     "output_type": "stream",
     "text": [
      "{\n",
      "    \"error\": false,\n",
      "    \"features\": [\n",
      "        {\n",
      "            \"geometry\": {\n",
      "                \"coordinates\": [\n",
      "                    [\n",
      "                        [\n",
      "                            2.776185185185184,\n",
      "                            42.76358333333333\n",
      "                        ],\n",
      "                        [\n",
      "                            3.035199074074074,\n",
      "                            42.76358333333333\n",
      "                        ],\n",
      "                        [\n",
      "                            3.035199074074074,\n",
      "                            42.62941666666666\n",
      "                        ],\n",
      "                        [\n",
      "                            2.776185185185184,\n",
      "                            42.62941666666666\n",
      "                        ],\n",
      "                        [\n",
      "                            2.776185185185184,\n",
      "                            42.76358333333333\n",
      "                        ]\n",
      "                    ]\n",
      "                ],\n",
      "                \"orientation\": \"clockwise\",\n",
      "                \"type\": \"Polygon\"\n",
      "            },\n",
      "            \"id\": \"95e878942335216e74e88a9d9e2a97156870bfce\",\n",
      "            \"properties\": {\n",
      "                \"acquisitionDate\": \"2016-09-22T10:42:34.781Z\",\n",
      "                \"centerCol\": 27975,\n",
      "                \"centerLatitude\": 42.69649999999999,\n",
      "                \"centerLongitude\": 2.905692129629629,\n",
      "                \"centerRow\": 14491,\n",
      "                \"cloudCover\": 0,\n",
      "                \"constellation\": \"PLEIADES\",\n",
      "                \"crsCode\": 4326,\n",
      "                \"dataFileFormat\": \"image/jp2\",\n",
      "                \"gsUri\": \"gs://ortho-phr/2016/09/22/OA_cities_sept26_708_SO16017926-5-01_DS_PHR1B_201609221042338_FR1_PX_E002N42_1117_01200_TOCL\",\n",
      "                \"gsdAcrossTrack\": 0.745168330168975,\n",
      "                \"gsdAlongTrack\": 0.7489340727205874,\n",
      "                \"illuminationAzimuthAngle\": 158.715308539016,\n",
      "                \"illuminationElevationAngle\": 45.5324880846548,\n",
      "                \"incidenceAcrossTrack\": 11.09575904060356,\n",
      "                \"incidenceAlongTrack\": 13.36486016750674,\n",
      "                \"incidenceAngle\": 17.12258116361993,\n",
      "                \"instrument\": \"PHR1B\",\n",
      "                \"lastModifiedDate\": \"2017-09-30T00:32:41.911340725Z\",\n",
      "                \"nBands\": 4,\n",
      "                \"nBits\": 8,\n",
      "                \"nCols\": 55948,\n",
      "                \"nRows\": 28981,\n",
      "                \"orientationAngle\": 0,\n",
      "                \"passDirection\": \"DESCENDING\",\n",
      "                \"processingLevel\": \"ORTHO\",\n",
      "                \"provider\": \"CNES, AIRBUS\",\n",
      "                \"radiometricAdjustment\": null,\n",
      "                \"resolution\": 0.5,\n",
      "                \"satellite\": \"PHR1B\",\n",
      "                \"snowCover\": 0,\n",
      "                \"sourceId\": \"DS_PHR1B_201609221042338_FR1_PX_E002N42_1117_01200\",\n",
      "                \"spectralProcessing\": \"PMS\",\n",
      "                \"tileEngineUrl\": \"https://eu.cog.airbusds-geo.com/ortho/95e878942335216e74e88a9d9e2a97156870bfce?z={z}&x={x}&y={y}&g=3857\",\n",
      "                \"viewingAcrossTrack\": -11.77625492098911,\n",
      "                \"viewingAlongTrack\": -9.952183289338988,\n",
      "                \"viewingAngle\": 15.24255961824749,\n",
      "                \"wmtsUrl\": \"https://tiles.airbusds-geo.com/95e878942335216e74e88a9d9e2a97156870bfce/wmts/\"\n",
      "            },\n",
      "            \"type\": \"Feature\"\n",
      "        }\n",
      "    ],\n",
      "    \"itemsPerPage\": 100,\n",
      "    \"startIndex\": 0,\n",
      "    \"totalResults\": 1,\n",
      "    \"type\": \"FeatureCollection\"\n",
      "}\n"
     ]
    }
   ],
   "source": [
    "image_uid = i_w.value\n",
    "r = play.get_image_from_uid(image_uid)\n",
    "print_json(r)\n",
    "source_id = r['features'][0]['properties']['sourceId']"
   ]
  },
  {
   "cell_type": "code",
   "execution_count": 7,
   "metadata": {},
   "outputs": [
    {
     "name": "stdout",
     "output_type": "stream",
     "text": [
      "{\n",
      "    \"error\": false,\n",
      "    \"features\": [\n",
      "        {\n",
      "            \"geometry\": {\n",
      "                \"coordinates\": [\n",
      "                    [\n",
      "                        [\n",
      "                            2.77612962962963,\n",
      "                            42.76358333333333\n",
      "                        ],\n",
      "                        [\n",
      "                            3.035199074074074,\n",
      "                            42.76358333333333\n",
      "                        ],\n",
      "                        [\n",
      "                            3.035199074074074,\n",
      "                            42.62941666666666\n",
      "                        ],\n",
      "                        [\n",
      "                            2.77612962962963,\n",
      "                            42.62941666666666\n",
      "                        ],\n",
      "                        [\n",
      "                            2.77612962962963,\n",
      "                            42.76358333333333\n",
      "                        ]\n",
      "                    ]\n",
      "                ],\n",
      "                \"orientation\": \"clockwise\",\n",
      "                \"type\": \"Polygon\"\n",
      "            },\n",
      "            \"id\": \"f11ad878ce4b0dc53f69c06dc0c807933e9604df\",\n",
      "            \"properties\": {\n",
      "                \"acquisitionDate\": \"2016-09-22T10:42:34.781Z\",\n",
      "                \"centerCol\": 27981,\n",
      "                \"centerLatitude\": 42.69649999999999,\n",
      "                \"centerLongitude\": 2.905664351851852,\n",
      "                \"centerRow\": 14491,\n",
      "                \"cloudCover\": 0,\n",
      "                \"constellation\": \"PLEIADES\",\n",
      "                \"crsCode\": 4326,\n",
      "                \"dataFileFormat\": \"image/jp2\",\n",
      "                \"gsUri\": \"gs://ortho-phr/2016/09/22/TL_20171023_7_SO17021178-8-01_DS_PHR1B_201609221042338_FR1_PX_E002N42_1117_01200\",\n",
      "                \"gsdAcrossTrack\": 0.7451685732832791,\n",
      "                \"gsdAlongTrack\": 0.7489344399011677,\n",
      "                \"illuminationAzimuthAngle\": 158.7152773508508,\n",
      "                \"illuminationElevationAngle\": 45.53249318561916,\n",
      "                \"incidenceAcrossTrack\": 11.09589431870362,\n",
      "                \"incidenceAlongTrack\": 13.36475895761911,\n",
      "                \"incidenceAngle\": 17.12258753002135,\n",
      "                \"instrument\": \"PHR1B\",\n",
      "                \"lastModifiedDate\": \"2018-11-02T22:30:02.042600716Z\",\n",
      "                \"nBands\": 4,\n",
      "                \"nBits\": 8,\n",
      "                \"nCols\": 55960,\n",
      "                \"nRows\": 28981,\n",
      "                \"orientationAngle\": 0,\n",
      "                \"passDirection\": \"DESCENDING\",\n",
      "                \"processingLevel\": \"ORTHO\",\n",
      "                \"provider\": \"CNES, AIRBUS\",\n",
      "                \"radiometricAdjustment\": \"DISPLAY\",\n",
      "                \"resolution\": 0.5,\n",
      "                \"satellite\": \"PHR1B\",\n",
      "                \"snowCover\": 0,\n",
      "                \"sourceId\": \"DS_PHR1B_201609221042338_FR1_PX_E002N42_1117_01200\",\n",
      "                \"spectralProcessing\": \"PMS\",\n",
      "                \"tileEngineUrl\": \"https://eu.cog.airbusds-geo.com/ortho/f11ad878ce4b0dc53f69c06dc0c807933e9604df?z={z}&x={x}&y={y}&g=3857\",\n",
      "                \"viewingAcrossTrack\": -11.77636196008247,\n",
      "                \"viewingAlongTrack\": -9.952065739432944,\n",
      "                \"viewingAngle\": 15.24256653382362,\n",
      "                \"wmtsUrl\": \"https://tiles.airbusds-geo.com/f11ad878ce4b0dc53f69c06dc0c807933e9604df/wmts/\"\n",
      "            },\n",
      "            \"type\": \"Feature\"\n",
      "        },\n",
      "        {\n",
      "            \"geometry\": {\n",
      "                \"coordinates\": [\n",
      "                    [\n",
      "                        [\n",
      "                            2.776185185185184,\n",
      "                            42.76358333333333\n",
      "                        ],\n",
      "                        [\n",
      "                            3.035199074074074,\n",
      "                            42.76358333333333\n",
      "                        ],\n",
      "                        [\n",
      "                            3.035199074074074,\n",
      "                            42.62941666666666\n",
      "                        ],\n",
      "                        [\n",
      "                            2.776185185185184,\n",
      "                            42.62941666666666\n",
      "                        ],\n",
      "                        [\n",
      "                            2.776185185185184,\n",
      "                            42.76358333333333\n",
      "                        ]\n",
      "                    ]\n",
      "                ],\n",
      "                \"orientation\": \"clockwise\",\n",
      "                \"type\": \"Polygon\"\n",
      "            },\n",
      "            \"id\": \"95e878942335216e74e88a9d9e2a97156870bfce\",\n",
      "            \"properties\": {\n",
      "                \"acquisitionDate\": \"2016-09-22T10:42:34.781Z\",\n",
      "                \"centerCol\": 27975,\n",
      "                \"centerLatitude\": 42.69649999999999,\n",
      "                \"centerLongitude\": 2.905692129629629,\n",
      "                \"centerRow\": 14491,\n",
      "                \"cloudCover\": 0,\n",
      "                \"constellation\": \"PLEIADES\",\n",
      "                \"crsCode\": 4326,\n",
      "                \"dataFileFormat\": \"image/jp2\",\n",
      "                \"gsUri\": \"gs://ortho-phr/2016/09/22/OA_cities_sept26_708_SO16017926-5-01_DS_PHR1B_201609221042338_FR1_PX_E002N42_1117_01200_TOCL\",\n",
      "                \"gsdAcrossTrack\": 0.745168330168975,\n",
      "                \"gsdAlongTrack\": 0.7489340727205874,\n",
      "                \"illuminationAzimuthAngle\": 158.715308539016,\n",
      "                \"illuminationElevationAngle\": 45.5324880846548,\n",
      "                \"incidenceAcrossTrack\": 11.09575904060356,\n",
      "                \"incidenceAlongTrack\": 13.36486016750674,\n",
      "                \"incidenceAngle\": 17.12258116361993,\n",
      "                \"instrument\": \"PHR1B\",\n",
      "                \"lastModifiedDate\": \"2017-09-30T00:32:41.911340725Z\",\n",
      "                \"nBands\": 4,\n",
      "                \"nBits\": 8,\n",
      "                \"nCols\": 55948,\n",
      "                \"nRows\": 28981,\n",
      "                \"orientationAngle\": 0,\n",
      "                \"passDirection\": \"DESCENDING\",\n",
      "                \"processingLevel\": \"ORTHO\",\n",
      "                \"provider\": \"CNES, AIRBUS\",\n",
      "                \"radiometricAdjustment\": null,\n",
      "                \"resolution\": 0.5,\n",
      "                \"satellite\": \"PHR1B\",\n",
      "                \"snowCover\": 0,\n",
      "                \"sourceId\": \"DS_PHR1B_201609221042338_FR1_PX_E002N42_1117_01200\",\n",
      "                \"spectralProcessing\": \"PMS\",\n",
      "                \"tileEngineUrl\": \"https://eu.cog.airbusds-geo.com/ortho/95e878942335216e74e88a9d9e2a97156870bfce?z={z}&x={x}&y={y}&g=3857\",\n",
      "                \"viewingAcrossTrack\": -11.77625492098911,\n",
      "                \"viewingAlongTrack\": -9.952183289338988,\n",
      "                \"viewingAngle\": 15.24255961824749,\n",
      "                \"wmtsUrl\": \"https://tiles.airbusds-geo.com/95e878942335216e74e88a9d9e2a97156870bfce/wmts/\"\n",
      "            },\n",
      "            \"type\": \"Feature\"\n",
      "        }\n",
      "    ],\n",
      "    \"itemsPerPage\": 100,\n",
      "    \"startIndex\": 0,\n",
      "    \"totalResults\": 2,\n",
      "    \"type\": \"FeatureCollection\"\n",
      "}\n"
     ]
    }
   ],
   "source": [
    "r = play.get_image_from_sourceid(source_id)\n",
    "print_json(r)\n",
    "xyz_url = r['features'][0]['properties']['tileEngineUrl']"
   ]
  },
  {
   "cell_type": "code",
   "execution_count": 8,
   "metadata": {},
   "outputs": [
    {
     "name": "stdout",
     "output_type": "stream",
     "text": [
      "2016-09-22\n"
     ]
    },
    {
     "data": {
      "application/vnd.jupyter.widget-view+json": {
       "model_id": "7950c4788cf4494b86611ca56e1f9215",
       "version_major": 2,
       "version_minor": 0
      },
      "text/plain": [
       "Map(basemap={'url': 'https://{s}.tile.openstreetmap.org/{z}/{x}/{y}.png', 'max_zoom': 19, 'attribution': 'Map …"
      ]
     },
     "metadata": {},
     "output_type": "display_data"
    }
   ],
   "source": [
    "# These are the coords of the center of the World according to Salvador Dali\n",
    "lng = 2.8791475296020512\n",
    "lat = 42.69606265394371\n",
    "                \n",
    "# create a Leaflet Map\n",
    "m1 = Map(center=(lat, lng), zoom=14)    \n",
    "\n",
    "# create a TileLayer to display our image\n",
    "my_image = TileLayer(\n",
    "            url = xyz_url,\n",
    "            max_zoom = 19,\n",
    "            attribution = 'Imagery &copy; <a href=\"https://oneatlas.intelligence-airbusds.com\">Airbus DS</a>',\n",
    "            name = 'Intelligence Playground Image'\n",
    "        )\n",
    "m1.add_layer(my_image)\n",
    "\n",
    "# and get the MODIS image at the time of acquisition\n",
    "date = r['features'][0]['properties'][\"acquisitionDate\"][0:10]\n",
    "print (date)\n",
    "m1.add_layer(basemap_to_tiles(basemaps.NASAGIBS.ModisTerraTrueColorCR, date))\n",
    "\n",
    "# you can control the layers display to reveal the basemap and you may zoom out to see the clouds\n",
    "m1.add_control(LayersControl())\n",
    "m1"
   ]
  },
  {
   "cell_type": "code",
   "execution_count": 9,
   "metadata": {},
   "outputs": [
    {
     "name": "stdout",
     "output_type": "stream",
     "text": [
      "[42.69606265394371, 2.8791475296020512]\n",
      "Zoom level is 14\n"
     ]
    }
   ],
   "source": [
    "# These are the coords of center of current view\n",
    "coords = m1.center\n",
    "zoom = m1.zoom\n",
    "print(coords)\n",
    "print(\"Zoom level is {}\".format(zoom))\n",
    "lat =  coords[0]\n",
    "lng =  coords[1]"
   ]
  },
  {
   "cell_type": "code",
   "execution_count": null,
   "metadata": {},
   "outputs": [],
   "source": [
    "# Convert this into XYZ and extract a 1024 x 1024 pixels tile\n",
    "# The get_big_tile function takes as input : a multiple of 256 pixels for its size and a XYZ as its center tile\n",
    "tile = mercantile.tile(lng, lat, zoom)\n",
    "image = play.get_big_tile(4, xyz_url, tile.z, tile.x, tile.y)\n",
    "image"
   ]
  },
  {
   "cell_type": "code",
   "execution_count": 11,
   "metadata": {},
   "outputs": [
    {
     "name": "stdout",
     "output_type": "stream",
     "text": [
      "Saved to disk!\n"
     ]
    }
   ],
   "source": [
    "# saving the image as a JPEG file to disk\n",
    "filename = 'extracts/' + image_uid + '-' + str(tile.z) + '-' + str(tile.x) + '-' + str(tile.y)\n",
    "image.save(filename + '.jpg')\n",
    "print('Saved to disk!')"
   ]
  },
  {
   "cell_type": "code",
   "execution_count": 13,
   "metadata": {},
   "outputs": [
    {
     "name": "stdout",
     "output_type": "stream",
     "text": [
      "Saved to disk!\n"
     ]
    }
   ],
   "source": [
    "# saving the .JGW file as well to get coordinates\n",
    "param = play.get_big_tile_proj(4, tile.z, tile.x, tile.y)\n",
    "with open(filename + '.jgw', 'w') as outfile:\n",
    "    outfile.write(param)\n",
    "    \n",
    "# also write the associated .PRJ file to define the WebMercator projection in WGS84\n",
    "with open(filename + '.prj', 'w') as outfile:\n",
    "    outfile.write(\"+proj=merc +a=6378137 +b=6378137 +lat_ts=0.0 +lon_0=0.0 +x_0=0.0 +y_0=0 +k=1.0 +units=m +nadgrids=@null +wktext  +no_defs\")\n",
    "print('Saved to disk!')"
   ]
  },
  {
   "cell_type": "code",
   "execution_count": null,
   "metadata": {},
   "outputs": [],
   "source": [
    "# and you can now open this image in QGIS!"
   ]
  }
 ],
 "metadata": {
  "kernelspec": {
   "display_name": "Python 3",
   "language": "python",
   "name": "python3"
  },
  "language_info": {
   "codemirror_mode": {
    "name": "ipython",
    "version": 3
   },
   "file_extension": ".py",
   "mimetype": "text/x-python",
   "name": "python",
   "nbconvert_exporter": "python",
   "pygments_lexer": "ipython3",
   "version": "3.7.4"
  }
 },
 "nbformat": 4,
 "nbformat_minor": 4
}
