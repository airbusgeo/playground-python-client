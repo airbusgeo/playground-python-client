{
 "cells": [
  {
   "cell_type": "markdown",
   "metadata": {},
   "source": [
    "# Connecting to the Playground API\n",
    "This Notebook shows how to connect to the Intelligence Playground API and do amazing stuff!\n",
    "\n",
    "## Some standard imports"
   ]
  },
  {
   "cell_type": "code",
   "execution_count": 1,
   "metadata": {},
   "outputs": [],
   "source": [
    "# Standard imports\n",
    "import os\n",
    "import matplotlib.pyplot as plt\n",
    "import cv2\n",
    "from PIL import Image\n",
    "import numpy as np\n",
    "from skimage import exposure, color, img_as_ubyte\n",
    "import mercantile\n",
    "import requests\n",
    "import csv\n",
    "import uuid\n",
    "import json\n",
    "import geohash2\n",
    "import uuid\n",
    "import warnings\n",
    "import geojson\n",
    "import time\n",
    "warnings.filterwarnings(\"ignore\")\n",
    "\n",
    "from shapely.geometry import mapping, shape\n",
    "\n",
    "# Widgets imports\n",
    "from ipyleaflet import Map, TileLayer, Polygon\n",
    "import ipywidgets as widgets\n",
    "from IPython.core.display import HTML"
   ]
  },
  {
   "cell_type": "markdown",
   "metadata": {},
   "source": [
    "## Connecting to the API\n",
    "\n",
    "To connect to the API, you need to retrieve your API_KEYS from the OneAtlas website. Follow the simple steps below:\n",
    "\n",
    "1. Visit this URL: https://data.api.oneatlas.airbus.com/api-keys\n",
    "2. Click the **Create and API key** button\n",
    "3. Enter a description for your API_KEY (e.g. Playground Keys)\n",
    "4. Store the file in the same folder than this notebook and name it **api_key.txt**\n",
    "\n",
    "Make sure to keep your **api_key.txt** safe! Do not include it in a public github repository for example :-)\n",
    "\n",
    "The following script will then use this **api_key.txt** file to generate an ACCESS_TOKEN. We will store this ACCESS_TOKEN in HEADERS that we will send with each requests. The ACCESS_TOKEN has a timeout so we will create a function that renew the ACCESS_TOKEN when half of the timeout has expired. "
   ]
  },
  {
   "cell_type": "code",
   "execution_count": 2,
   "metadata": {},
   "outputs": [
    {
     "name": "stdout",
     "output_type": "stream",
     "text": [
      "Successfully connected to Playground.\n"
     ]
    }
   ],
   "source": [
    "# TOKENS and OAUTH\n",
    "ACCESS_TOKEN = None\n",
    "TIMEOUT = None\n",
    "HEADERS = None\n",
    "\n",
    "# read API key\n",
    "with open('api_key.txt') as f:\n",
    "    api_key = f.readline()\n",
    "\n",
    "#FUNCTIONS\n",
    "def playground_refresh_access_token():\n",
    "    global ACCESS_TOKEN, TIMEOUT, HEADERS\n",
    "    \n",
    "    # if ACCESS_TOKEN exists and timeout is not reached, HEADERS should be OK\n",
    "    if ACCESS_TOKEN is not None:\n",
    "        if TIMEOUT is not None:\n",
    "            if time.time() < TIMEOUT:\n",
    "                return True\n",
    "            \n",
    "    # request auth token\n",
    "    r = requests.post('https://authenticate.foundation.api.oneatlas.airbus.com/auth/realms/IDP/protocol/openid-connect/token',\n",
    "        headers={'Content-Type':'application/x-www-form-urlencoded'},\n",
    "        data={'apikey':api_key, 'grant_type':'api_key', 'client_id':'IDP'})\n",
    "\n",
    "    # Check status code\n",
    "    assert r.status_code == 200, 'A problem occured during connection \\\n",
    "                                  with the Playground'\n",
    "    # Convert content in json\n",
    "    content = r.json()\n",
    "    \n",
    "    assert 'access_token' in content.keys(), 'No access_token field in response'\n",
    "    ACCESS_TOKEN = content['access_token']\n",
    "    assert 'expires_in' in content.keys(), 'No expires_in field in response'\n",
    "    expires_in = content['expires_in']\n",
    "    TIMEOUT = time.time() + expires_in // 2\n",
    "\n",
    "    # build headers\n",
    "    HEADERS = {\n",
    "        'Authorization': 'Bearer {}'.format(ACCESS_TOKEN),\n",
    "        'Content-Type': 'application/json',\n",
    "        'Cache-Control': 'no-cache'\n",
    "    }\n",
    "    return True\n",
    "\n",
    "if playground_refresh_access_token():\n",
    "    print(\"Successfully connected to Playground.\")\n"
   ]
  },
  {
   "cell_type": "markdown",
   "metadata": {},
   "source": [
    "## Library of useful functions"
   ]
  },
  {
   "cell_type": "code",
   "execution_count": 7,
   "metadata": {},
   "outputs": [],
   "source": [
    "# Official Playground URL\n",
    "#PLAYGROUND_URL = \"https://playground.intelligence-airbusds.com\"\n",
    "\n",
    "# Alternate Playground URL\n",
    "PLAYGROUND_URL = \"https://apps.playground.airbusds-geo.com\"\n",
    "\n",
    "PLAYGROUND_CURRENT_USER_URL = PLAYGROUND_URL + \"/currentUser\"\n",
    "def check_logged_user():\n",
    "    # refresh the Playground token if needed\n",
    "    playground_refresh_access_token()\n",
    "    # ping current user\n",
    "    r = requests.get(PLAYGROUND_CURRENT_USER_URL, headers=HEADERS)\n",
    "    # Check status\n",
    "    assert r.status_code == 200, 'A problem occured during connection \\\n",
    "                                  with the Playground'\n",
    "    # Return result\n",
    "    return r.json()\n",
    "\n",
    "PLAYGROUND_PROJECT_URL = PLAYGROUND_URL + \"/api/projects\"\n",
    "def get_projects():\n",
    "    playground_refresh_access_token()\n",
    "    r = requests.get(PLAYGROUND_PROJECT_URL, headers=HEADERS)\n",
    "    #print(r.status_code)\n",
    "    #print(r.content)\n",
    "    if r.status_code == 404:\n",
    "        print('This zone ID does not exist')\n",
    "    elif r.status_code == 401:\n",
    "        print('You do not have sufficient rights to perform this operation')\n",
    "    elif r.status_code != 200:\n",
    "        print(\"A problem occured during connection with the Playground (status_code={})\".format(r.status_code))\n",
    "    else:\n",
    "        return r.json()\n",
    "    return None\n",
    "\n",
    "PLAYGROUND_PROCESSES_URL = PLAYGROUND_URL + \"/api/v1/processes?projectId={projectId}\"\n",
    "def get_processes(projectId):\n",
    "    #print(\"Retrieving information for zone with id={}\".format(zone_id))\n",
    "    playground_refresh_access_token()\n",
    "    r = requests.get(PLAYGROUND_PROCESSES_URL.format(projectId=projectId), headers=HEADERS)\n",
    "    #print(r.status_code)\n",
    "    #print(r.content)\n",
    "    if r.status_code == 404:\n",
    "        print('This zone ID does not exist')\n",
    "    elif r.status_code == 401:\n",
    "        print('You do not have sufficient rights to perform this operation')\n",
    "    elif r.status_code != 200:\n",
    "        print(\"A problem occured during connection with the Playground (status_code={})\".format(r.status_code))\n",
    "    else:\n",
    "        return r.json()\n",
    "    return None\n",
    "\n",
    "PLAYGROUND_PROCESS_URL = PLAYGROUND_URL + \"/api/v1/processes/{processId}?projectId={projectId}\"\n",
    "def get_process(processId):\n",
    "    #print(\"Retrieving information for zone with id={}\".format(zone_id))\n",
    "    playground_refresh_access_token()\n",
    "    r = requests.get(PLAYGROUND_PROCESS_URL.format(projectId=projectId, processId=processId), headers=HEADERS)\n",
    "    #print(r.status_code)\n",
    "    #print(r.content)\n",
    "    if r.status_code == 404:\n",
    "        print('This zone ID does not exist')\n",
    "    elif r.status_code == 401:\n",
    "        print('You do not have sufficient rights to perform this operation')\n",
    "    elif r.status_code != 200:\n",
    "        print(\"A problem occured during connection with the Playground (status_code={})\".format(r.status_code))\n",
    "    else:\n",
    "        return r.json()\n",
    "    return None\n",
    "\n",
    "PLAYGROUND_DATASETS_URL = PLAYGROUND_URL + \"/api/v1/datasets?projectId={projectId}\"\n",
    "def get_datasets(projectId):\n",
    "    #print(\"Retrieving information for zone with id={}\".format(zone_id))\n",
    "    playground_refresh_access_token()\n",
    "    r = requests.get(PLAYGROUND_DATASETS_URL.format(projectId=projectId), headers=HEADERS)\n",
    "    #print(r.status_code)\n",
    "    #print(r.content)\n",
    "    if r.status_code == 404:\n",
    "        print('This project ID does not exist')\n",
    "    elif r.status_code == 401:\n",
    "        print('You do not have sufficient rights to perform this operation')\n",
    "    elif r.status_code != 200:\n",
    "        print(\"A problem occured during connection with the Playground (status_code={})\".format(r.status_code))\n",
    "    else:\n",
    "        return r.json()\n",
    "    return None\n",
    "\n",
    "PLAYGROUND_DATASET_URL = PLAYGROUND_URL + \"/api/datasets/{datasetId}\"\n",
    "def get_dataset(dataset_id):\n",
    "    playground_refresh_access_token()\n",
    "    r = requests.get(PLAYGROUND_DATASET_URL.format(datasetId=dataset_id), headers=HEADERS)\n",
    "    #print(r.status_code)\n",
    "    if r.status_code == 404:\n",
    "        print('This dataset ID does not exist')\n",
    "    if r.status_code == 401:\n",
    "        print('You do not have sufficient rights to perform this operation')\n",
    "    elif r.status_code != 200:\n",
    "        print(\"A problem occured during connection with the Playground (status_code={})\".format(r.status_code))\n",
    "    else:\n",
    "        return r.json()\n",
    "    return None\n",
    "\n",
    "PLAYGROUND_ZONES_SEARCH_URL = PLAYGROUND_URL + \"/api/zones?dataset_id={datasetId}\"\n",
    "def get_zones_in_dataset(dataset_id):\n",
    "    playground_refresh_access_token()\n",
    "    r = requests.get(PLAYGROUND_ZONES_SEARCH_URL.format(datasetId=dataset_id), headers=HEADERS)\n",
    "    #print(r.status_code)\n",
    "    if r.status_code == 404:\n",
    "        print('This dataset ID does not exist')\n",
    "    elif r.status_code == 401:\n",
    "        print('You do not have sufficient rights to perform this operation')\n",
    "    elif r.status_code != 200:\n",
    "        print(\"A problem occured during connection with the Playground (status_code={})\".format(r.status_code))\n",
    "    else:\n",
    "        return r.json()\n",
    "    return None\n",
    "\n",
    "PLAYGROUND_ZONE_URL = PLAYGROUND_URL + \"/api/zones/{zoneId}\"\n",
    "def get_zone(zone_id):\n",
    "    print(\"Retrieving information for zone with id={}\".format(zone_id))\n",
    "    playground_refresh_access_token()\n",
    "    r = requests.get(PLAYGROUND_ZONE_URL.format(zoneId=zone_id), headers=HEADERS)\n",
    "    #print(r.status_code)\n",
    "    if r.status_code == 404:\n",
    "        print('This zone ID does not exist')\n",
    "    elif r.status_code == 401:\n",
    "        print('You do not have sufficient rights to perform this operation')\n",
    "    elif r.status_code != 200:\n",
    "        print(\"A problem occured during connection with the Playground (status_code={})\".format(r.status_code))\n",
    "    else:\n",
    "        return r.json()\n",
    "    return None\n",
    "\n",
    "def store_zone(zone_id, zone):\n",
    "    print(\"Updating information for zone with id={}\".format(zone_id))\n",
    "    playground_refresh_access_token()\n",
    "    r = requests.put(PLAYGROUND_ZONE_URL.format(zoneId=zone_id), headers=HEADERS, data=json.dumps(zone))\n",
    "    #print(r.status_code)\n",
    "    if r.status_code == 404:\n",
    "        print('This zone ID does not exist')\n",
    "    elif r.status_code == 401:\n",
    "        print('You do not have sufficient rights to perform this operation')\n",
    "    elif r.status_code != 200:\n",
    "        print(\"A problem occured during connection with the Playground (status_code={})\".format(r.status_code))\n",
    "    else:\n",
    "        return r.json()\n",
    "    return None\n",
    "\n",
    "RECORDS_COUNT_ZONE_URL = PLAYGROUND_URL + \"/api/records?count=true&zone_id={zoneId}&bbox={BBOX}\"\n",
    "def get_records_count_in_zone(zone_id, bbox):\n",
    "    playground_refresh_access_token()\n",
    "    r = requests.get(RECORDS_COUNT_ZONE_URL.format(zoneId=zone_id, BBOX=bbox), headers=HEADERS)\n",
    "    #print(r.status_code)\n",
    "    if r.status_code == 404:\n",
    "        print('This zone ID does not exist')\n",
    "    elif r.status_code == 401:\n",
    "        print('You do not have sufficient rights to perform this operation')\n",
    "    elif r.status_code != 200:\n",
    "        print(\"A problem occured during connection with the Playground (status_code={})\".format(r.status_code))\n",
    "    else:\n",
    "        return r.json()\n",
    "    return None\n",
    "\n",
    "RECORDS_ZONE_URL = PLAYGROUND_URL + \"/api/records?zone_id={zoneId}&bbox={BBOX}\"\n",
    "def get_records_in_zone(zone_id, bbox):\n",
    "    playground_refresh_access_token()\n",
    "    r = requests.get(RECORDS_ZONE_URL.format(zoneId=zone_id, BBOX=bbox), headers=HEADERS)\n",
    "    #print(r.status_code)\n",
    "    if r.status_code == 404:\n",
    "        print('This zone ID does not exist')\n",
    "    elif r.status_code == 401:\n",
    "        print('You do not have sufficient rights to perform this operation')\n",
    "    elif r.status_code != 200:\n",
    "        print(\"A problem occured during connection with the Playground (status_code={})\".format(r.status_code))\n",
    "    else:\n",
    "        return r.json()\n",
    "    return None\n",
    "\n",
    "RECORDS_URL = PLAYGROUND_URL + \"/api/records/{recordId}\"\n",
    "def delete_record(record_id):\n",
    "    playground_refresh_access_token()\n",
    "    r = requests.delete(RECORDS_URL.format(recordId=record_id), headers=HEADERS)\n",
    "    #print(r.status_code)\n",
    "    if r.status_code == 404:\n",
    "        print('No record with ID={} found in database.'.format(record_id))\n",
    "    elif r.status_code == 401:\n",
    "        print('You do not have sufficient rights to perform this operation')\n",
    "    elif r.status_code != 200:\n",
    "        print(\"A problem occured during connection with the Playground (status_code={})\".format(r.status_code))\n",
    "    else:\n",
    "        return True\n",
    "    return False"
   ]
  },
  {
   "cell_type": "code",
   "execution_count": 8,
   "metadata": {},
   "outputs": [],
   "source": [
    "def print_json(parsed):\n",
    "    print(json.dumps(parsed, indent=4, sort_keys=True))\n",
    "    \n",
    "def getBounds(coords):\n",
    "    xmax = ymax = -np.Infinity\n",
    "    xmin = ymin = np.Infinity\n",
    "    for v in coords:\n",
    "        xmax = xmax if xmax > v[0] else v[0]\n",
    "        ymax = ymax if ymax > v[1] else v[1]\n",
    "        xmin = xmin if xmin < v[0] else v[0]\n",
    "        ymin = ymin if ymin < v[1] else v[1]\n",
    "    return (xmin, ymin, xmax, ymax)\n"
   ]
  },
  {
   "cell_type": "markdown",
   "metadata": {},
   "source": [
    "## Now start using them!"
   ]
  },
  {
   "cell_type": "code",
   "execution_count": 9,
   "metadata": {},
   "outputs": [
    {
     "name": "stdout",
     "output_type": "stream",
     "text": [
      "Logged as user: Jean-Francois Faudi\n"
     ]
    }
   ],
   "source": [
    "# Logged in user\n",
    "user = check_logged_user()\n",
    "print(\"Logged as user: {} {}\".format(user['firstname'], user['lastname']))"
   ]
  },
  {
   "cell_type": "markdown",
   "metadata": {},
   "source": [
    "## Get available projects for this user"
   ]
  },
  {
   "cell_type": "code",
   "execution_count": 10,
   "metadata": {},
   "outputs": [
    {
     "data": {
      "application/vnd.jupyter.widget-view+json": {
       "model_id": "2d0e858b317b4abc957481a67fddb471",
       "version_major": 2,
       "version_minor": 0
      },
      "text/plain": [
       "Dropdown(description='Project:', options=(('Airbus', '1a50823a-d9c1-4397-8b64-1c8079d6c7eb'), ('Airbus NA', 'e…"
      ]
     },
     "metadata": {},
     "output_type": "display_data"
    }
   ],
   "source": [
    "p_database = {}\n",
    "p_label = []\n",
    "r = get_projects()\n",
    "#print(r)\n",
    "for project in r:\n",
    "    #print(process)\n",
    "    project_id = project['project_id']\n",
    "    p_label.append((project['name'], project_id))\n",
    "    p_database[project_id] = project\n",
    "    \n",
    "p_label.sort() \n",
    "p_w = widgets.Dropdown(\n",
    "    options=p_label,\n",
    "    description='Project:',\n",
    "    disabled=False\n",
    ")\n",
    "display(p_w)"
   ]
  },
  {
   "cell_type": "markdown",
   "metadata": {},
   "source": [
    "## Get available processes in this project"
   ]
  },
  {
   "cell_type": "code",
   "execution_count": 11,
   "metadata": {},
   "outputs": [
    {
     "data": {
      "application/vnd.jupyter.widget-view+json": {
       "model_id": "fe8fae774fa8416c9274dd696f0c857d",
       "version_major": 2,
       "version_minor": 0
      },
      "text/plain": [
       "Dropdown(description='Process:', options=(('DL Change Detection 5', '2f8d2fc7-e38e-4e2f-88f2-266135677f4c'), (…"
      ]
     },
     "metadata": {},
     "output_type": "display_data"
    }
   ],
   "source": [
    "projectId = p_w.value\n",
    "\n",
    "a_database = {}\n",
    "a_label = []\n",
    "r = get_processes(projectId)\n",
    "#print(processes)\n",
    "for process in r['processes']:\n",
    "    #print(process)\n",
    "    process_id = process['id']\n",
    "    a_label.append((process['title'], process_id))\n",
    "    a_database[process_id] = process\n",
    "    \n",
    "a_label.sort() \n",
    "a_w = widgets.Dropdown(\n",
    "    options=a_label,\n",
    "    description='Process:',\n",
    "    disabled=False\n",
    ")\n",
    "display(a_w)"
   ]
  },
  {
   "cell_type": "code",
   "execution_count": 12,
   "metadata": {},
   "outputs": [
    {
     "name": "stdout",
     "output_type": "stream",
     "text": [
      "Process_ID=2f8d2fc7-e38e-4e2f-88f2-266135677f4c\n",
      "{\n",
      "    \"$schema\": \"http://json-schema.org/draft-06/schema#\",\n",
      "    \"description\": \"Geo Processes Manager API input schema for tile change detection\",\n",
      "    \"oneOf\": [\n",
      "        {\n",
      "            \"required\": [\n",
      "                \"datasetId\"\n",
      "            ]\n",
      "        },\n",
      "        {\n",
      "            \"required\": [\n",
      "                \"datasetName\"\n",
      "            ]\n",
      "        }\n",
      "    ],\n",
      "    \"properties\": {\n",
      "        \"datasetId\": {\n",
      "            \"description\": \"Result dataset ID, if the dataset already exists (exclusive with datasetName)\",\n",
      "            \"type\": \"string\"\n",
      "        },\n",
      "        \"datasetName\": {\n",
      "            \"description\": \"Result dataset name, to create a new dataset (exclusive with datasetId)\",\n",
      "            \"type\": \"string\"\n",
      "        },\n",
      "        \"geom\": {\n",
      "            \"description\": \"Area of interest\",\n",
      "            \"properties\": {\n",
      "                \"coordinates\": {\n",
      "                    \"description\": \"GeoJSON Polygon coordinates\",\n",
      "                    \"type\": \"array\"\n",
      "                },\n",
      "                \"type\": {\n",
      "                    \"default\": \"Polygon\",\n",
      "                    \"description\": \"Always a Polygon\",\n",
      "                    \"type\": \"string\"\n",
      "                }\n",
      "            },\n",
      "            \"required\": [\n",
      "                \"type\",\n",
      "                \"coordinates\"\n",
      "            ],\n",
      "            \"type\": \"object\"\n",
      "        },\n",
      "        \"imageId1\": {\n",
      "            \"description\": \"Image 1 ID\",\n",
      "            \"type\": \"string\"\n",
      "        },\n",
      "        \"imageId2\": {\n",
      "            \"description\": \"Image 2 ID\",\n",
      "            \"type\": \"string\"\n",
      "        },\n",
      "        \"maskDatasetId\": {\n",
      "            \"description\": \"Dataset ID used as image mask\",\n",
      "            \"type\": \"string\"\n",
      "        },\n",
      "        \"name\": {\n",
      "            \"description\": \"Job name\",\n",
      "            \"type\": \"string\"\n",
      "        },\n",
      "        \"projectId\": {\n",
      "            \"description\": \"Project ID\",\n",
      "            \"type\": \"string\"\n",
      "        }\n",
      "    },\n",
      "    \"required\": [\n",
      "        \"name\",\n",
      "        \"imageId1\",\n",
      "        \"imageId2\",\n",
      "        \"geom\"\n",
      "    ],\n",
      "    \"title\": \"job-change-detection-input\",\n",
      "    \"type\": \"object\"\n",
      "}\n"
     ]
    }
   ],
   "source": [
    "process_id = a_w.value\n",
    "print(\"Process_ID={}\".format(process_id))\n",
    "r = get_process(process_id)\n",
    "#print_json(r)\n",
    "print_json(r['input'])"
   ]
  },
  {
   "cell_type": "code",
   "execution_count": 13,
   "metadata": {},
   "outputs": [
    {
     "name": "stdout",
     "output_type": "stream",
     "text": [
      "{\n",
      "    \"delete\": {\n",
      "        \"href\": \"https://playground-api-gateway.playground.airbusds-geo.com/api/v1/processes/2f8d2fc7-e38e-4e2f-88f2-266135677f4c?projectId=3361252e-bfe8-4b8e-8c38-e915e32d741f\",\n",
      "        \"method\": \"DELETE\",\n",
      "        \"relation\": \"Delete the process\",\n",
      "        \"type\": \"application/json\"\n",
      "    },\n",
      "    \"jobs\": {\n",
      "        \"href\": \"https://playground-api-gateway.playground.airbusds-geo.com/api/v1/processes/2f8d2fc7-e38e-4e2f-88f2-266135677f4c/jobs?projectId=3361252e-bfe8-4b8e-8c38-e915e32d741f\",\n",
      "        \"method\": \"GET\",\n",
      "        \"relation\": \"Return the list of all process' jobs\",\n",
      "        \"type\": \"application/json\"\n",
      "    },\n",
      "    \"list\": {\n",
      "        \"href\": \"https://playground-api-gateway.playground.airbusds-geo.com/api/v1/processes?projectId=3361252e-bfe8-4b8e-8c38-e915e32d741f\",\n",
      "        \"method\": \"GET\",\n",
      "        \"relation\": \"Return the list of all processes\",\n",
      "        \"type\": \"application/json\"\n",
      "    },\n",
      "    \"runNewJob\": {\n",
      "        \"href\": \"https://playground-api-gateway.playground.airbusds-geo.com/api/v1/processes/2f8d2fc7-e38e-4e2f-88f2-266135677f4c/jobs?projectId=3361252e-bfe8-4b8e-8c38-e915e32d741f\",\n",
      "        \"method\": \"POST\",\n",
      "        \"relation\": \"Make a job request that should be queued for future execution\",\n",
      "        \"type\": \"application/json\"\n",
      "    },\n",
      "    \"self\": {\n",
      "        \"href\": \"https://playground-api-gateway.playground.airbusds-geo.com/api/v1/processes/2f8d2fc7-e38e-4e2f-88f2-266135677f4c?projectId=3361252e-bfe8-4b8e-8c38-e915e32d741f\",\n",
      "        \"method\": \"GET\",\n",
      "        \"relation\": \"Return the process information\",\n",
      "        \"type\": \"application/json\"\n",
      "    },\n",
      "    \"update\": {\n",
      "        \"href\": \"https://playground-api-gateway.playground.airbusds-geo.com/api/v1/processes/2f8d2fc7-e38e-4e2f-88f2-266135677f4c?projectId=3361252e-bfe8-4b8e-8c38-e915e32d741f\",\n",
      "        \"method\": \"PUT\",\n",
      "        \"relation\": \"Update the process\",\n",
      "        \"type\": \"application/json\"\n",
      "    }\n",
      "}\n"
     ]
    }
   ],
   "source": [
    "print_json(r['_links'])"
   ]
  },
  {
   "cell_type": "code",
   "execution_count": 14,
   "metadata": {},
   "outputs": [
    {
     "name": "stdout",
     "output_type": "stream",
     "text": [
      "null\n"
     ]
    }
   ],
   "source": [
    "# TODO: this field should contain information about the output format of the process\n",
    "print_json(r['output'])"
   ]
  },
  {
   "cell_type": "markdown",
   "metadata": {},
   "source": [
    "## Get available datasets in this project"
   ]
  },
  {
   "cell_type": "code",
   "execution_count": 15,
   "metadata": {},
   "outputs": [
    {
     "data": {
      "application/vnd.jupyter.widget-view+json": {
       "model_id": "c581be9f2bec435387a9a2d43fe6c24f",
       "version_major": 2,
       "version_minor": 0
      },
      "text/plain": [
       "Dropdown(description='Dataset:', options=(('Buildings', 'ba61290c-2ebc-4dfe-8c89-2700d2251be8'), ('Cnes', 'c6f…"
      ]
     },
     "metadata": {},
     "output_type": "display_data"
    }
   ],
   "source": [
    "projectId = p_w.value\n",
    "\n",
    "d_database = {}\n",
    "d_label = []\n",
    "r = get_datasets(projectId)\n",
    "#print_json(r)\n",
    "for dataset in r['datasets']:\n",
    "    #print_json(dataset)\n",
    "    dataset_id = dataset['datasetId']\n",
    "    d_label.append((dataset['name'], dataset_id))\n",
    "    d_database[dataset_id] = dataset\n",
    "    \n",
    "d_label.sort() \n",
    "d_w = widgets.Dropdown(\n",
    "    options=d_label,\n",
    "    description='Dataset:',\n",
    "    disabled=False\n",
    ")\n",
    "display(d_w)"
   ]
  },
  {
   "cell_type": "code",
   "execution_count": 16,
   "metadata": {},
   "outputs": [
    {
     "name": "stdout",
     "output_type": "stream",
     "text": [
      "This dataset contains 1 zones.\n",
      "This dataset contains 9608 records.\n"
     ]
    }
   ],
   "source": [
    "# Dataset\n",
    "dataset_id = d_w.value\n",
    "\n",
    "# display information about this dataset\n",
    "r = get_dataset(dataset_id)\n",
    "#print_json(r)\n",
    "print(\"This dataset contains {} zones.\".format(r['zones']))\n",
    "print(\"This dataset contains {} records.\".format(r['records']))"
   ]
  },
  {
   "cell_type": "code",
   "execution_count": 17,
   "metadata": {},
   "outputs": [
    {
     "data": {
      "application/vnd.jupyter.widget-view+json": {
       "model_id": "94c2e74a65b04b1d99136e3878271087",
       "version_major": 2,
       "version_minor": 0
      },
      "text/plain": [
       "Dropdown(description='Zones:', options=(('job_2019-05-20_Denver Buildings', '532c8037-bdad-4f2f-b3c8-63ff78fa4…"
      ]
     },
     "metadata": {},
     "output_type": "display_data"
    }
   ],
   "source": [
    "z_database = {}\n",
    "z_label = []\n",
    "zones = get_zones_in_dataset(dataset_id)\n",
    "for zone in zones:\n",
    "    zone_id = zone['zone_id']\n",
    "    z_label.append((zone['name'], zone_id))\n",
    "    z_database[zone_id] = zone\n",
    "    \n",
    "z_label.sort() \n",
    "z_w = widgets.Dropdown(\n",
    "    options=z_label,\n",
    "    description='Zones:',\n",
    "    disabled=False\n",
    ")\n",
    "display(z_w)"
   ]
  },
  {
   "cell_type": "code",
   "execution_count": 19,
   "metadata": {},
   "outputs": [
    {
     "name": "stdout",
     "output_type": "stream",
     "text": [
      "Zone_ID=532c8037-bdad-4f2f-b3c8-63ff78fa4d8e\n",
      "[\n",
      "    [\n",
      "        -105.008674,\n",
      "        39.669472\n",
      "    ],\n",
      "    [\n",
      "        -104.935118,\n",
      "        39.669472\n",
      "    ],\n",
      "    [\n",
      "        -104.935118,\n",
      "        39.68962\n",
      "    ],\n",
      "    [\n",
      "        -105.008674,\n",
      "        39.68962\n",
      "    ],\n",
      "    [\n",
      "        -105.008674,\n",
      "        39.669472\n",
      "    ]\n",
      "]\n"
     ]
    }
   ],
   "source": [
    "zone_id = z_w.value\n",
    "print(\"Zone_ID={}\".format(zone_id))\n",
    "#print_json(z_database[zone_id])\n",
    "print_json(z_database[zone_id]['geom']['coordinates'][0])"
   ]
  },
  {
   "cell_type": "code",
   "execution_count": 21,
   "metadata": {},
   "outputs": [
    {
     "name": "stdout",
     "output_type": "stream",
     "text": [
      "This zone contains 9580 records.\n"
     ]
    }
   ],
   "source": [
    "bounds = getBounds(z_database[zone_id]['geom']['coordinates'][0])\n",
    "bbox = \",\".join(map(str, bounds))\n",
    "r = get_records_count_in_zone(zone_id, bbox)\n",
    "#print_json(r)\n",
    "print(\"This zone contains {} records.\".format(r['count']))"
   ]
  },
  {
   "cell_type": "code",
   "execution_count": null,
   "metadata": {},
   "outputs": [],
   "source": []
  },
  {
   "cell_type": "code",
   "execution_count": null,
   "metadata": {},
   "outputs": [],
   "source": []
  }
 ],
 "metadata": {
  "kernelspec": {
   "display_name": "Python 3",
   "language": "python",
   "name": "python3"
  },
  "language_info": {
   "codemirror_mode": {
    "name": "ipython",
    "version": 3
   },
   "file_extension": ".py",
   "mimetype": "text/x-python",
   "name": "python",
   "nbconvert_exporter": "python",
   "pygments_lexer": "ipython3",
   "version": "3.7.3"
  }
 },
 "nbformat": 4,
 "nbformat_minor": 4
}