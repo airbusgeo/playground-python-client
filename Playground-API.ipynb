{
 "cells": [
  {
   "cell_type": "markdown",
   "metadata": {},
   "source": [
    "# Connecting to the Playground API\n",
    "This Notebook shows how to connect to the Intelligence Playground Python Client API and do amazing stuff!\n",
    "\n",
    "## Some standard imports"
   ]
  },
  {
   "cell_type": "code",
   "execution_count": 1,
   "metadata": {},
   "outputs": [],
   "source": [
    "# Standard imports\n",
    "import os\n",
    "import matplotlib.pyplot as plt\n",
    "import cv2\n",
    "from PIL import Image\n",
    "import numpy as np\n",
    "from skimage import exposure, color, img_as_ubyte\n",
    "import mercantile\n",
    "import requests\n",
    "import csv\n",
    "import uuid\n",
    "import json\n",
    "import geohash2\n",
    "import uuid\n",
    "import warnings\n",
    "import geojson\n",
    "import time\n",
    "warnings.filterwarnings(\"ignore\")\n",
    "\n",
    "from shapely.geometry import mapping, shape\n",
    "\n",
    "# Widgets imports\n",
    "from ipyleaflet import Map, TileLayer, Polygon\n",
    "import ipywidgets as widgets\n",
    "from IPython.core.display import HTML"
   ]
  },
  {
   "cell_type": "markdown",
   "metadata": {},
   "source": [
    "## Connecting to the API\n",
    "\n",
    "To connect to the API, you need to retrieve your API_KEYS from the OneAtlas website. Follow the simple steps below:\n",
    "\n",
    "1. Visit this URL: https://data.api.oneatlas.airbus.com/api-keys\n",
    "2. Click the **Create and API key** button\n",
    "3. Enter a description for your API_KEY (e.g. Playground Keys)\n",
    "4. Store the file in the same folder than this notebook and name it **api_key.txt**\n",
    "\n",
    "Make sure to keep your **api_key.txt** safe! Do not include it in a public github repository for example :-)\n",
    "\n",
    "The following script will then use this **api_key.txt** file to generate an ACCESS_TOKEN. We will store this ACCESS_TOKEN in HEADERS that we will send with each requests. The ACCESS_TOKEN has a timeout so we will create a function that renew the ACCESS_TOKEN when half of the timeout has expired. "
   ]
  },
  {
   "cell_type": "code",
   "execution_count": 2,
   "metadata": {},
   "outputs": [],
   "source": [
    "# Create a PlaygroundClient object\n",
    "from playgroundclient import PlaygroundClient\n",
    "play = PlaygroundClient()"
   ]
  },
  {
   "cell_type": "markdown",
   "metadata": {},
   "source": [
    "## Some useful functions"
   ]
  },
  {
   "cell_type": "code",
   "execution_count": 3,
   "metadata": {},
   "outputs": [],
   "source": [
    "def print_json(parsed):\n",
    "    print(json.dumps(parsed, indent=4, sort_keys=True))\n",
    "    \n",
    "def getBounds(coords):\n",
    "    xmax = ymax = -np.Infinity\n",
    "    xmin = ymin = np.Infinity\n",
    "    for v in coords:\n",
    "        xmax = xmax if xmax > v[0] else v[0]\n",
    "        ymax = ymax if ymax > v[1] else v[1]\n",
    "        xmin = xmin if xmin < v[0] else v[0]\n",
    "        ymin = ymin if ymin < v[1] else v[1]\n",
    "    return (xmin, ymin, xmax, ymax)\n"
   ]
  },
  {
   "cell_type": "markdown",
   "metadata": {},
   "source": [
    "## Now start using them!"
   ]
  },
  {
   "cell_type": "code",
   "execution_count": 4,
   "metadata": {},
   "outputs": [
    {
     "name": "stdout",
     "output_type": "stream",
     "text": [
      "Logged as user: Jean-Francois Faudi\n"
     ]
    }
   ],
   "source": [
    "# Logged in user\n",
    "user = play.get_logged_user()\n",
    "print(\"Logged as user: {} {}\".format(user['firstname'], user['lastname']))"
   ]
  },
  {
   "cell_type": "markdown",
   "metadata": {},
   "source": [
    "## Get available projects for this user"
   ]
  },
  {
   "cell_type": "code",
   "execution_count": 5,
   "metadata": {},
   "outputs": [
    {
     "data": {
      "application/vnd.jupyter.widget-view+json": {
       "model_id": "13d17a13e59e42f9be422ccf32b17946",
       "version_major": 2,
       "version_minor": 0
      },
      "text/plain": [
       "Dropdown(description='Project:', options=(('Airbus', '1a50823a-d9c1-4397-8b64-1c8079d6c7eb'), ('Airbus NA', 'e…"
      ]
     },
     "metadata": {},
     "output_type": "display_data"
    }
   ],
   "source": [
    "p_database = {}\n",
    "p_label = []\n",
    "r = play.get_projects()\n",
    "#print(r)\n",
    "for project in r:\n",
    "    #print(process)\n",
    "    project_id = project['project_id']\n",
    "    p_label.append((project['name'], project_id))\n",
    "    p_database[project_id] = project\n",
    "    \n",
    "p_label.sort() \n",
    "p_w = widgets.Dropdown(\n",
    "    options=p_label,\n",
    "    description='Project:',\n",
    "    disabled=False\n",
    ")\n",
    "display(p_w)"
   ]
  },
  {
   "cell_type": "markdown",
   "metadata": {},
   "source": [
    "## Get available processes in this project"
   ]
  },
  {
   "cell_type": "code",
   "execution_count": 6,
   "metadata": {},
   "outputs": [
    {
     "data": {
      "application/vnd.jupyter.widget-view+json": {
       "model_id": "43f5411a7e504362b25176ce7143f68a",
       "version_major": 2,
       "version_minor": 0
      },
      "text/plain": [
       "Dropdown(description='Process:', options=(('Ext Aircrafts', '45de4dd3-32b5-498e-9cd9-8a318a47a698'),), value='…"
      ]
     },
     "metadata": {},
     "output_type": "display_data"
    }
   ],
   "source": [
    "projectId = p_w.value\n",
    "\n",
    "a_database = {}\n",
    "a_label = []\n",
    "r = play.get_processes(projectId=projectId)\n",
    "#print(processes)\n",
    "for process in r['processes']:\n",
    "    #print(process)\n",
    "    process_id = process['id']\n",
    "    a_label.append((process['title'], process_id))\n",
    "    a_database[process_id] = process\n",
    "    \n",
    "a_label.sort() \n",
    "a_w = widgets.Dropdown(\n",
    "    options=a_label,\n",
    "    description='Process:',\n",
    "    disabled=False\n",
    ")\n",
    "display(a_w)"
   ]
  },
  {
   "cell_type": "code",
   "execution_count": 7,
   "metadata": {},
   "outputs": [
    {
     "name": "stdout",
     "output_type": "stream",
     "text": [
      "Process_ID=45de4dd3-32b5-498e-9cd9-8a318a47a698\n",
      "{\n",
      "    \"$schema\": \"http://json-schema.org/draft-06/schema#\",\n",
      "    \"description\": \"Geo Processes Manager API input schema for tile object detection\",\n",
      "    \"oneOf\": [\n",
      "        {\n",
      "            \"required\": [\n",
      "                \"datasetId\"\n",
      "            ]\n",
      "        },\n",
      "        {\n",
      "            \"required\": [\n",
      "                \"datasetName\"\n",
      "            ]\n",
      "        }\n",
      "    ],\n",
      "    \"properties\": {\n",
      "        \"datasetId\": {\n",
      "            \"description\": \"Result dataset ID, if the dataset already exists (exclusive with datasetName)\",\n",
      "            \"type\": \"string\"\n",
      "        },\n",
      "        \"datasetName\": {\n",
      "            \"description\": \"Result dataset name, to create a new dataset (exclusive with datasetId)\",\n",
      "            \"type\": \"string\"\n",
      "        },\n",
      "        \"geom\": {\n",
      "            \"description\": \"Area of interest\",\n",
      "            \"properties\": {\n",
      "                \"coordinates\": {\n",
      "                    \"description\": \"GeoJSON Polygon coordinates\",\n",
      "                    \"type\": \"array\"\n",
      "                },\n",
      "                \"type\": {\n",
      "                    \"default\": \"Polygon\",\n",
      "                    \"description\": \"Always a Polygon\",\n",
      "                    \"type\": \"string\"\n",
      "                }\n",
      "            },\n",
      "            \"required\": [\n",
      "                \"type\",\n",
      "                \"coordinates\"\n",
      "            ],\n",
      "            \"type\": \"object\"\n",
      "        },\n",
      "        \"imageId\": {\n",
      "            \"description\": \"Image ID\",\n",
      "            \"type\": \"string\"\n",
      "        },\n",
      "        \"maskDatasetId\": {\n",
      "            \"description\": \"Dataset ID used as image mask\",\n",
      "            \"type\": \"string\"\n",
      "        },\n",
      "        \"name\": {\n",
      "            \"description\": \"Job name\",\n",
      "            \"type\": \"string\"\n",
      "        },\n",
      "        \"projectId\": {\n",
      "            \"description\": \"Project ID\",\n",
      "            \"type\": \"string\"\n",
      "        }\n",
      "    },\n",
      "    \"required\": [\n",
      "        \"name\",\n",
      "        \"imageId\",\n",
      "        \"geom\"\n",
      "    ],\n",
      "    \"title\": \"job-object-detection-input\",\n",
      "    \"type\": \"object\"\n",
      "}\n"
     ]
    }
   ],
   "source": [
    "processId = a_w.value\n",
    "print(\"Process_ID={}\".format(processId))\n",
    "r = play.get_process(projectId, processId)\n",
    "#print_json(r)\n",
    "print_json(r['input'])"
   ]
  },
  {
   "cell_type": "code",
   "execution_count": 8,
   "metadata": {},
   "outputs": [
    {
     "name": "stdout",
     "output_type": "stream",
     "text": [
      "{\n",
      "    \"delete\": {\n",
      "        \"href\": \"https://playground-api-gateway.playground.airbusds-geo.com/api/v1/processes/45de4dd3-32b5-498e-9cd9-8a318a47a698?projectId=bc2b6bcf-79ed-42e6-b948-029d067ae655\",\n",
      "        \"method\": \"DELETE\",\n",
      "        \"relation\": \"Delete the process\",\n",
      "        \"type\": \"application/json\"\n",
      "    },\n",
      "    \"jobs\": {\n",
      "        \"href\": \"https://playground-api-gateway.playground.airbusds-geo.com/api/v1/processes/45de4dd3-32b5-498e-9cd9-8a318a47a698/jobs?projectId=bc2b6bcf-79ed-42e6-b948-029d067ae655\",\n",
      "        \"method\": \"GET\",\n",
      "        \"relation\": \"Return the list of all process' jobs\",\n",
      "        \"type\": \"application/json\"\n",
      "    },\n",
      "    \"list\": {\n",
      "        \"href\": \"https://playground-api-gateway.playground.airbusds-geo.com/api/v1/processes?projectId=bc2b6bcf-79ed-42e6-b948-029d067ae655\",\n",
      "        \"method\": \"GET\",\n",
      "        \"relation\": \"Return the list of all processes\",\n",
      "        \"type\": \"application/json\"\n",
      "    },\n",
      "    \"runNewJob\": {\n",
      "        \"href\": \"https://playground-api-gateway.playground.airbusds-geo.com/api/v1/processes/45de4dd3-32b5-498e-9cd9-8a318a47a698/jobs?projectId=bc2b6bcf-79ed-42e6-b948-029d067ae655\",\n",
      "        \"method\": \"POST\",\n",
      "        \"relation\": \"Make a job request that should be queued for future execution\",\n",
      "        \"type\": \"application/json\"\n",
      "    },\n",
      "    \"self\": {\n",
      "        \"href\": \"https://playground-api-gateway.playground.airbusds-geo.com/api/v1/processes/45de4dd3-32b5-498e-9cd9-8a318a47a698?projectId=bc2b6bcf-79ed-42e6-b948-029d067ae655\",\n",
      "        \"method\": \"GET\",\n",
      "        \"relation\": \"Return the process information\",\n",
      "        \"type\": \"application/json\"\n",
      "    },\n",
      "    \"update\": {\n",
      "        \"href\": \"https://playground-api-gateway.playground.airbusds-geo.com/api/v1/processes/45de4dd3-32b5-498e-9cd9-8a318a47a698?projectId=bc2b6bcf-79ed-42e6-b948-029d067ae655\",\n",
      "        \"method\": \"PUT\",\n",
      "        \"relation\": \"Update the process\",\n",
      "        \"type\": \"application/json\"\n",
      "    }\n",
      "}\n"
     ]
    }
   ],
   "source": [
    "print_json(r['_links'])"
   ]
  },
  {
   "cell_type": "code",
   "execution_count": 9,
   "metadata": {},
   "outputs": [
    {
     "name": "stdout",
     "output_type": "stream",
     "text": [
      "null\n"
     ]
    }
   ],
   "source": [
    "# TODO: this field should contain information about the output format of the process\n",
    "print_json(r['output'])"
   ]
  },
  {
   "cell_type": "markdown",
   "metadata": {},
   "source": [
    "## Get available datasets in this project"
   ]
  },
  {
   "cell_type": "code",
   "execution_count": 10,
   "metadata": {},
   "outputs": [
    {
     "data": {
      "application/vnd.jupyter.widget-view+json": {
       "model_id": "a5c02a058ef649b28788d45c8032911d",
       "version_major": 2,
       "version_minor": 0
      },
      "text/plain": [
       "Dropdown(description='Dataset:', options=(('Military Airbases', '6fac0304-cd87-4be6-9e81-e2787a0f03c7'), ('OI …"
      ]
     },
     "metadata": {},
     "output_type": "display_data"
    }
   ],
   "source": [
    "projectId = p_w.value\n",
    "\n",
    "d_database = {}\n",
    "d_label = []\n",
    "r = play.get_datasets(projectId)\n",
    "#print_json(r)\n",
    "for dataset in r['datasets']:\n",
    "    #print_json(dataset)\n",
    "    dataset_id = dataset['datasetId']\n",
    "    d_label.append((dataset['name'], dataset_id))\n",
    "    d_database[dataset_id] = dataset\n",
    "    \n",
    "d_label.sort() \n",
    "d_w = widgets.Dropdown(\n",
    "    options=d_label,\n",
    "    description='Dataset:',\n",
    "    disabled=False\n",
    ")\n",
    "display(d_w)"
   ]
  },
  {
   "cell_type": "code",
   "execution_count": 11,
   "metadata": {},
   "outputs": [
    {
     "name": "stdout",
     "output_type": "stream",
     "text": [
      "This dataset contains 95 zones.\n",
      "This dataset contains 96692 records.\n"
     ]
    }
   ],
   "source": [
    "# Dataset\n",
    "datasetId = d_w.value\n",
    "\n",
    "# display information about this dataset\n",
    "r = play.get_dataset(datasetId)\n",
    "#print_json(r)\n",
    "print(\"This dataset contains {} zones.\".format(r['zones']))\n",
    "print(\"This dataset contains {} records.\".format(r['records']))"
   ]
  },
  {
   "cell_type": "code",
   "execution_count": 12,
   "metadata": {},
   "outputs": [
    {
     "data": {
      "application/vnd.jupyter.widget-view+json": {
       "model_id": "d7ccc3d1e53a4270a3517aae44557356",
       "version_major": 2,
       "version_minor": 0
      },
      "text/plain": [
       "Dropdown(description='Zones:', options=(('091. Russia - Chelyabinsk Oblast 1', '18c31654-070b-4b34-b7f2-e4a115…"
      ]
     },
     "metadata": {},
     "output_type": "display_data"
    }
   ],
   "source": [
    "z_database = {}\n",
    "z_label = []\n",
    "zones = play.get_zones_in_dataset(datasetId)\n",
    "#print_json(zones)\n",
    "for zone in zones:\n",
    "    zone_id = zone['zone_id']\n",
    "    z_label.append((zone['name'], zone_id))\n",
    "    z_database[zone_id] = zone\n",
    "    \n",
    "z_label.sort() \n",
    "z_w = widgets.Dropdown(\n",
    "    options=z_label,\n",
    "    description='Zones:',\n",
    "    disabled=False\n",
    ")\n",
    "display(z_w)"
   ]
  },
  {
   "cell_type": "markdown",
   "metadata": {},
   "source": [
    "## Get zone bounding box"
   ]
  },
  {
   "cell_type": "code",
   "execution_count": 14,
   "metadata": {},
   "outputs": [
    {
     "name": "stdout",
     "output_type": "stream",
     "text": [
      "Zone_ID=18c31654-070b-4b34-b7f2-e4a1159ae57c\n",
      "{\n",
      "    \"created_at\": \"2018-03-30T08:48:16.495125\",\n",
      "    \"dataset_id\": \"6fac0304-cd87-4be6-9e81-e2787a0f03c7\",\n",
      "    \"description\": \"\",\n",
      "    \"geom\": {\n",
      "        \"coordinates\": [\n",
      "            [\n",
      "                [\n",
      "                    61.272125,\n",
      "                    55.272857\n",
      "                ],\n",
      "                [\n",
      "                    61.272125,\n",
      "                    55.243901\n",
      "                ],\n",
      "                [\n",
      "                    61.322937,\n",
      "                    55.243901\n",
      "                ],\n",
      "                [\n",
      "                    61.322937,\n",
      "                    55.272857\n",
      "                ],\n",
      "                [\n",
      "                    61.272125,\n",
      "                    55.272857\n",
      "                ]\n",
      "            ]\n",
      "        ],\n",
      "        \"type\": \"Polygon\"\n",
      "    },\n",
      "    \"image_2_id\": null,\n",
      "    \"image_id\": \"dab9034be997398def9660bd97e39568bceb1787\",\n",
      "    \"name\": \"091. Russia - Chelyabinsk Oblast 1\",\n",
      "    \"status\": \"LABELLIZED\",\n",
      "    \"zone_id\": \"18c31654-070b-4b34-b7f2-e4a1159ae57c\"\n",
      "}\n",
      "[\n",
      "    [\n",
      "        61.272125,\n",
      "        55.272857\n",
      "    ],\n",
      "    [\n",
      "        61.272125,\n",
      "        55.243901\n",
      "    ],\n",
      "    [\n",
      "        61.322937,\n",
      "        55.243901\n",
      "    ],\n",
      "    [\n",
      "        61.322937,\n",
      "        55.272857\n",
      "    ],\n",
      "    [\n",
      "        61.272125,\n",
      "        55.272857\n",
      "    ]\n",
      "]\n"
     ]
    }
   ],
   "source": [
    "zone_id = z_w.value\n",
    "print(\"Zone_ID={}\".format(zone_id))\n",
    "print_json(z_database[zone_id])\n",
    "print_json(z_database[zone_id]['geom']['coordinates'][0])"
   ]
  },
  {
   "cell_type": "markdown",
   "metadata": {},
   "source": [
    "## Get records in zone"
   ]
  },
  {
   "cell_type": "code",
   "execution_count": 15,
   "metadata": {},
   "outputs": [
    {
     "name": "stdout",
     "output_type": "stream",
     "text": [
      "This zone contains 85 records.\n"
     ]
    }
   ],
   "source": [
    "bounds = getBounds(z_database[zone_id]['geom']['coordinates'][0])\n",
    "bbox = \",\".join(map(str, bounds))\n",
    "r = play.get_records_count_in_zone(zone_id, bbox)\n",
    "#print_json(r)\n",
    "print(\"This zone contains {} records.\".format(r['count']))"
   ]
  },
  {
   "cell_type": "markdown",
   "metadata": {},
   "source": [
    "## Search for imagery"
   ]
  },
  {
   "cell_type": "code",
   "execution_count": 16,
   "metadata": {},
   "outputs": [
    {
     "name": "stdout",
     "output_type": "stream",
     "text": [
      "{'constellation': 'PLEIADES,SPOT,ZEPHYR,Sentinel-2,Deimos-2,TerraSAR-X,AERIAL'}\n"
     ]
    }
   ],
   "source": [
    "r = play.check_available_sensors()\n",
    "print(r)\n",
    "SENSORS = r['constellation']"
   ]
  },
  {
   "cell_type": "code",
   "execution_count": 17,
   "metadata": {},
   "outputs": [
    {
     "data": {
      "application/vnd.jupyter.widget-view+json": {
       "model_id": "8cfdd2539d8c41df932ef4f100554869",
       "version_major": 2,
       "version_minor": 0
      },
      "text/plain": [
       "Dropdown(description='Images:', options=(('SPOT from 2015-04-14', '3fced14abccc00ba3b72fca5a7a5aed59a137e96'),…"
      ]
     },
     "metadata": {},
     "output_type": "display_data"
    }
   ],
   "source": [
    "BBOX = \"2.921570396582031,43.222281109872185,2.5643774034179687,43.00423659842319\"\n",
    "SENSORS = 'PLEIADES,SPOT'\n",
    "\n",
    "images = play.get_images(BBOX, SENSORS)\n",
    "#print_json(images)\n",
    "\n",
    "i_database = {}\n",
    "i_label = []\n",
    "#print_json(images)\n",
    "for image in images['features']:\n",
    "    image_uid = image['id']\n",
    "    i_label.append((image['properties']['constellation'] + \" from \" + image['properties']['acquisitionDate'][0:10], image_uid))\n",
    "    i_database[image_uid] = image\n",
    "    \n",
    "i_label.sort() \n",
    "i_w = widgets.Dropdown(\n",
    "    options=i_label,\n",
    "    description='Images:',\n",
    "    disabled=False\n",
    ")\n",
    "display(i_w)"
   ]
  },
  {
   "cell_type": "code",
   "execution_count": 19,
   "metadata": {},
   "outputs": [
    {
     "name": "stdout",
     "output_type": "stream",
     "text": [
      "{\n",
      "    \"error\": false,\n",
      "    \"features\": [\n",
      "        {\n",
      "            \"geometry\": {\n",
      "                \"coordinates\": [\n",
      "                    [\n",
      "                        [\n",
      "                            2.31465972222,\n",
      "                            43.4245208333\n",
      "                        ],\n",
      "                        [\n",
      "                            3.06297916667,\n",
      "                            43.4245208333\n",
      "                        ],\n",
      "                        [\n",
      "                            3.06297916667,\n",
      "                            42.4038125\n",
      "                        ],\n",
      "                        [\n",
      "                            2.31465972222,\n",
      "                            42.4038125\n",
      "                        ],\n",
      "                        [\n",
      "                            2.31465972222,\n",
      "                            43.4245208333\n",
      "                        ]\n",
      "                    ]\n",
      "                ],\n",
      "                \"orientation\": \"clockwise\",\n",
      "                \"type\": \"Polygon\"\n",
      "            },\n",
      "            \"id\": \"3fced14abccc00ba3b72fca5a7a5aed59a137e96\",\n",
      "            \"properties\": {\n",
      "                \"acquisitionDate\": \"2015-04-14T10:18:17.951Z\",\n",
      "                \"centerCol\": 26941,\n",
      "                \"centerLatitude\": 42.9141597222,\n",
      "                \"centerLongitude\": 2.68882638889,\n",
      "                \"centerRow\": 36747,\n",
      "                \"cloudCover\": 0,\n",
      "                \"constellation\": \"SPOT\",\n",
      "                \"crsCode\": 4326,\n",
      "                \"dataFileFormat\": \"image/jp2\",\n",
      "                \"gsUri\": \"gs://ortho-spot/2015/04/14/France_1_32_SO15016318-32-01_DS_SPOT6_201504141018092_FR1_FR1_FR1_FR1_E003N43_03332_TOCL\",\n",
      "                \"gsdAcrossTrack\": 2.10055152818,\n",
      "                \"gsdAlongTrack\": 2.30320022397,\n",
      "                \"illuminationAzimuthAngle\": 142.911513377,\n",
      "                \"illuminationElevationAngle\": 50.3281743468,\n",
      "                \"incidenceAcrossTrack\": 0.558634058919,\n",
      "                \"incidenceAlongTrack\": 8.26352494391,\n",
      "                \"incidenceAngle\": 8.75621906618,\n",
      "                \"instrument\": \"SPOT6\",\n",
      "                \"lastModifiedDate\": \"2017-02-03T13:01:16.100635801Z\",\n",
      "                \"nBands\": 4,\n",
      "                \"nBits\": 8,\n",
      "                \"nCols\": 53880,\n",
      "                \"nRows\": 73492,\n",
      "                \"orientationAngle\": 0,\n",
      "                \"passDirection\": \"DESCENDING\",\n",
      "                \"processingLevel\": \"ORTHO\",\n",
      "                \"provider\": \"AIRBUS\",\n",
      "                \"radiometricAdjustment\": \"NONE\",\n",
      "                \"resolution\": \"1.5\",\n",
      "                \"satellite\": \"SPOT6\",\n",
      "                \"snowCover\": 0,\n",
      "                \"sourceId\": \"DS_SPOT6_201504141018092_FR1_FR1_FR1_FR1_E003N43_03332\",\n",
      "                \"spectralProcessing\": \"PMS\",\n",
      "                \"tileEngineUrl\": \"https://tiles.airbusds-geo.com/3fced14abccc00ba3b72fca5a7a5aed59a137e96/rgb/3857/{z}/{x}/{y}\",\n",
      "                \"viewingAcrossTrack\": -2.2254806112,\n",
      "                \"viewingAlongTrack\": -6.91027436366,\n",
      "                \"viewingAngle\": 7.71850544078,\n",
      "                \"wmtsUrl\": \"https://tiles.airbusds-geo.com/3fced14abccc00ba3b72fca5a7a5aed59a137e96/wmts/\"\n",
      "            },\n",
      "            \"type\": \"Feature\"\n",
      "        }\n",
      "    ],\n",
      "    \"itemsPerPage\": 100,\n",
      "    \"startIndex\": 0,\n",
      "    \"totalResults\": 1,\n",
      "    \"type\": \"FeatureCollection\"\n",
      "}\n"
     ]
    }
   ],
   "source": [
    "image_uid = i_w.value\n",
    "r = play.get_image_from_uid(image_uid)\n",
    "print_json(r)\n",
    "source_id = r['features'][0]['properties']['sourceId']"
   ]
  },
  {
   "cell_type": "code",
   "execution_count": 22,
   "metadata": {},
   "outputs": [
    {
     "name": "stdout",
     "output_type": "stream",
     "text": [
      "{\n",
      "    \"error\": false,\n",
      "    \"features\": [\n",
      "        {\n",
      "            \"geometry\": {\n",
      "                \"coordinates\": [\n",
      "                    [\n",
      "                        [\n",
      "                            2.31465972222,\n",
      "                            43.4245208333\n",
      "                        ],\n",
      "                        [\n",
      "                            3.06297916667,\n",
      "                            43.4245208333\n",
      "                        ],\n",
      "                        [\n",
      "                            3.06297916667,\n",
      "                            42.4038125\n",
      "                        ],\n",
      "                        [\n",
      "                            2.31465972222,\n",
      "                            42.4038125\n",
      "                        ],\n",
      "                        [\n",
      "                            2.31465972222,\n",
      "                            43.4245208333\n",
      "                        ]\n",
      "                    ]\n",
      "                ],\n",
      "                \"orientation\": \"clockwise\",\n",
      "                \"type\": \"Polygon\"\n",
      "            },\n",
      "            \"id\": \"3fced14abccc00ba3b72fca5a7a5aed59a137e96\",\n",
      "            \"properties\": {\n",
      "                \"acquisitionDate\": \"2015-04-14T10:18:17.951Z\",\n",
      "                \"centerCol\": 26941,\n",
      "                \"centerLatitude\": 42.9141597222,\n",
      "                \"centerLongitude\": 2.68882638889,\n",
      "                \"centerRow\": 36747,\n",
      "                \"cloudCover\": 0,\n",
      "                \"constellation\": \"SPOT\",\n",
      "                \"crsCode\": 4326,\n",
      "                \"dataFileFormat\": \"image/jp2\",\n",
      "                \"gsUri\": \"gs://ortho-spot/2015/04/14/France_1_32_SO15016318-32-01_DS_SPOT6_201504141018092_FR1_FR1_FR1_FR1_E003N43_03332_TOCL\",\n",
      "                \"gsdAcrossTrack\": 2.10055152818,\n",
      "                \"gsdAlongTrack\": 2.30320022397,\n",
      "                \"illuminationAzimuthAngle\": 142.911513377,\n",
      "                \"illuminationElevationAngle\": 50.3281743468,\n",
      "                \"incidenceAcrossTrack\": 0.558634058919,\n",
      "                \"incidenceAlongTrack\": 8.26352494391,\n",
      "                \"incidenceAngle\": 8.75621906618,\n",
      "                \"instrument\": \"SPOT6\",\n",
      "                \"lastModifiedDate\": \"2017-02-03T13:01:16.100635801Z\",\n",
      "                \"nBands\": 4,\n",
      "                \"nBits\": 8,\n",
      "                \"nCols\": 53880,\n",
      "                \"nRows\": 73492,\n",
      "                \"orientationAngle\": 0,\n",
      "                \"passDirection\": \"DESCENDING\",\n",
      "                \"processingLevel\": \"ORTHO\",\n",
      "                \"provider\": \"AIRBUS\",\n",
      "                \"radiometricAdjustment\": \"NONE\",\n",
      "                \"resolution\": \"1.5\",\n",
      "                \"satellite\": \"SPOT6\",\n",
      "                \"snowCover\": 0,\n",
      "                \"sourceId\": \"DS_SPOT6_201504141018092_FR1_FR1_FR1_FR1_E003N43_03332\",\n",
      "                \"spectralProcessing\": \"PMS\",\n",
      "                \"tileEngineUrl\": \"https://tiles.airbusds-geo.com/3fced14abccc00ba3b72fca5a7a5aed59a137e96/rgb/3857/{z}/{x}/{y}\",\n",
      "                \"viewingAcrossTrack\": -2.2254806112,\n",
      "                \"viewingAlongTrack\": -6.91027436366,\n",
      "                \"viewingAngle\": 7.71850544078,\n",
      "                \"wmtsUrl\": \"https://tiles.airbusds-geo.com/3fced14abccc00ba3b72fca5a7a5aed59a137e96/wmts/\"\n",
      "            },\n",
      "            \"type\": \"Feature\"\n",
      "        }\n",
      "    ],\n",
      "    \"itemsPerPage\": 100,\n",
      "    \"startIndex\": 0,\n",
      "    \"totalResults\": 1,\n",
      "    \"type\": \"FeatureCollection\"\n",
      "}\n"
     ]
    }
   ],
   "source": [
    "r = play.get_image_from_sourceid(source_id)\n",
    "print_json(r)"
   ]
  },
  {
   "cell_type": "code",
   "execution_count": null,
   "metadata": {},
   "outputs": [],
   "source": []
  }
 ],
 "metadata": {
  "kernelspec": {
   "display_name": "Python 3",
   "language": "python",
   "name": "python3"
  },
  "language_info": {
   "codemirror_mode": {
    "name": "ipython",
    "version": 3
   },
   "file_extension": ".py",
   "mimetype": "text/x-python",
   "name": "python",
   "nbconvert_exporter": "python",
   "pygments_lexer": "ipython3",
   "version": "3.7.3"
  }
 },
 "nbformat": 4,
 "nbformat_minor": 4
}
