{
 "cells": [
  {
   "cell_type": "markdown",
   "metadata": {},
   "source": [
    "# This is how to manage PROCESSES and JOBS with the Playground API\n",
    "This Notebook shows how to connect to the Intelligence Playground Python Client API and do amazing stuff!"
   ]
  },
  {
   "cell_type": "code",
   "execution_count": 1,
   "metadata": {},
   "outputs": [],
   "source": [
    "# Install some extra python module if needed...\n",
    "#!pip install mercantile geohash2 geojson shapely ipywidgets ipyleaflet"
   ]
  },
  {
   "cell_type": "code",
   "execution_count": 2,
   "metadata": {},
   "outputs": [],
   "source": [
    "# Standard imports\n",
    "import os\n",
    "import matplotlib.pyplot as plt\n",
    "import cv2\n",
    "from PIL import Image\n",
    "import numpy as np\n",
    "import mercantile\n",
    "import requests\n",
    "import csv\n",
    "import uuid\n",
    "import json\n",
    "import geohash2\n",
    "import uuid\n",
    "import warnings\n",
    "import geojson\n",
    "import time\n",
    "warnings.filterwarnings(\"ignore\")\n",
    "\n",
    "from shapely.geometry import mapping, shape\n",
    "\n",
    "# Widgets imports\n",
    "from ipyleaflet import Map, TileLayer, Polygon\n",
    "import ipywidgets as widgets\n",
    "from IPython.core.display import HTML"
   ]
  },
  {
   "cell_type": "markdown",
   "metadata": {},
   "source": [
    "## Connecting to the API\n",
    "\n",
    "To connect to the API, you need to retrieve your API_KEYS from the OneAtlas website. Follow the simple steps below:\n",
    "\n",
    "1. Visit this URL: https://data.api.oneatlas.airbus.com/api-keys\n",
    "2. Click the **Create and API key** button\n",
    "3. Enter a description for your API_KEY (e.g. Playground Keys)\n",
    "4. Store the file in the same folder than this notebook and name it **api_key.txt**\n",
    "\n",
    "Make sure to keep your **api_key.txt** safe! Do not include it in a public github repository for example :-)\n",
    "\n",
    "The following script will then use this **api_key.txt** file to generate an ACCESS_TOKEN. We will store this ACCESS_TOKEN in HEADERS that we will send with each requests. The ACCESS_TOKEN has a timeout so we will create a function that renew the ACCESS_TOKEN when half of the timeout has expired. "
   ]
  },
  {
   "cell_type": "code",
   "execution_count": 3,
   "metadata": {},
   "outputs": [],
   "source": [
    "# Create a PlaygroundClient object\n",
    "from playgroundclient import PlaygroundClient\n",
    "play = PlaygroundClient()"
   ]
  },
  {
   "cell_type": "markdown",
   "metadata": {},
   "source": [
    "## Some useful functions"
   ]
  },
  {
   "cell_type": "code",
   "execution_count": 4,
   "metadata": {},
   "outputs": [],
   "source": [
    "def print_json(parsed):\n",
    "    print(json.dumps(parsed, indent=4, sort_keys=True))\n",
    "    \n",
    "def getBounds(coords):\n",
    "    xmax = ymax = -np.Infinity\n",
    "    xmin = ymin = np.Infinity\n",
    "    for v in coords:\n",
    "        xmax = xmax if xmax > v[0] else v[0]\n",
    "        ymax = ymax if ymax > v[1] else v[1]\n",
    "        xmin = xmin if xmin < v[0] else v[0]\n",
    "        ymin = ymin if ymin < v[1] else v[1]\n",
    "    return (xmin, ymin, xmax, ymax)\n"
   ]
  },
  {
   "cell_type": "markdown",
   "metadata": {},
   "source": [
    "## Now start using them!"
   ]
  },
  {
   "cell_type": "code",
   "execution_count": 5,
   "metadata": {},
   "outputs": [
    {
     "name": "stdout",
     "output_type": "stream",
     "text": [
      "Logged as user: Jean-Francois Faudi\n"
     ]
    }
   ],
   "source": [
    "# Logged in user\n",
    "user = play.get_logged_user()\n",
    "print(\"Logged as user: {} {}\".format(user['firstname'], user['lastname']))"
   ]
  },
  {
   "cell_type": "markdown",
   "metadata": {},
   "source": [
    "## Get available projects for this user"
   ]
  },
  {
   "cell_type": "code",
   "execution_count": 6,
   "metadata": {},
   "outputs": [
    {
     "data": {
      "application/vnd.jupyter.widget-view+json": {
       "model_id": "2c6d557c5d594e05bc6b85a930f5ed19",
       "version_major": 2,
       "version_minor": 0
      },
      "text/plain": [
       "Dropdown(description='Project:', options=(('Airbus NA', 'e84b4d54-4c99-4527-8be7-927a11a73897'), ('Airbus NA -…"
      ]
     },
     "metadata": {},
     "output_type": "display_data"
    }
   ],
   "source": [
    "p_database = {}\n",
    "p_label = []\n",
    "r = play.get_projects()\n",
    "#print(r)\n",
    "for project in r:\n",
    "    #print(process)\n",
    "    project_id = project['project_id']\n",
    "    p_label.append((project['name'], project_id))\n",
    "    p_database[project_id] = project\n",
    "    \n",
    "p_label.sort() \n",
    "p_w = widgets.Dropdown(\n",
    "    options=p_label,\n",
    "    description='Project:',\n",
    "    disabled=False\n",
    ")\n",
    "display(p_w)"
   ]
  },
  {
   "cell_type": "markdown",
   "metadata": {},
   "source": [
    "## Get available processes in this project"
   ]
  },
  {
   "cell_type": "code",
   "execution_count": 7,
   "metadata": {},
   "outputs": [
    {
     "data": {
      "application/vnd.jupyter.widget-view+json": {
       "model_id": "72ea16adb791452daa8fa1132e455583",
       "version_major": 2,
       "version_minor": 0
      },
      "text/plain": [
       "Dropdown(description='Process:', options=(('2. Airbus Aerial damage 2 grade', '7bfacb17-7ecf-4952-b7bd-53f71cc…"
      ]
     },
     "metadata": {},
     "output_type": "display_data"
    }
   ],
   "source": [
    "projectId = p_w.value\n",
    "\n",
    "a_database = {}\n",
    "a_label = []\n",
    "r = play.get_processes(projectId=projectId)\n",
    "#print(processes)\n",
    "for process in r['processes']:\n",
    "    #print(process)\n",
    "    process_id = process['id']\n",
    "    a_label.append((process['title'], process_id))\n",
    "    a_database[process_id] = process\n",
    "    \n",
    "a_label.sort() \n",
    "a_w = widgets.Dropdown(\n",
    "    options=a_label,\n",
    "    description='Process:',\n",
    "    disabled=False\n",
    ")\n",
    "display(a_w)"
   ]
  },
  {
   "cell_type": "markdown",
   "metadata": {},
   "source": [
    "## Get more precise information about this process"
   ]
  },
  {
   "cell_type": "code",
   "execution_count": 8,
   "metadata": {},
   "outputs": [
    {
     "name": "stdout",
     "output_type": "stream",
     "text": [
      "Process_ID=7bfacb17-7ecf-4952-b7bd-53f71cccd0e0\n"
     ]
    }
   ],
   "source": [
    "processId = a_w.value\n",
    "print(\"Process_ID={}\".format(processId))\n",
    "r = play.get_process(projectId, processId)\n",
    "#print_json(r)"
   ]
  },
  {
   "cell_type": "markdown",
   "metadata": {},
   "source": [
    "### Description of input to process"
   ]
  },
  {
   "cell_type": "code",
   "execution_count": 9,
   "metadata": {},
   "outputs": [
    {
     "name": "stdout",
     "output_type": "stream",
     "text": [
      "{\n",
      "    \"$schema\": \"http://json-schema.org/draft-06/schema#\",\n",
      "    \"description\": \"Geo Processes Manager API input schema for tile object detection\",\n",
      "    \"oneOf\": [\n",
      "        {\n",
      "            \"required\": [\n",
      "                \"datasetId\"\n",
      "            ]\n",
      "        },\n",
      "        {\n",
      "            \"required\": [\n",
      "                \"datasetName\"\n",
      "            ]\n",
      "        }\n",
      "    ],\n",
      "    \"properties\": {\n",
      "        \"datasetId\": {\n",
      "            \"description\": \"Result dataset ID, if the dataset already exists (exclusive with datasetName)\",\n",
      "            \"type\": \"string\"\n",
      "        },\n",
      "        \"datasetName\": {\n",
      "            \"description\": \"Result dataset name, to create a new dataset (exclusive with datasetId)\",\n",
      "            \"type\": \"string\"\n",
      "        },\n",
      "        \"geom\": {\n",
      "            \"description\": \"Area of interest\",\n",
      "            \"properties\": {\n",
      "                \"coordinates\": {\n",
      "                    \"description\": \"GeoJSON Polygon coordinates\",\n",
      "                    \"type\": \"array\"\n",
      "                },\n",
      "                \"type\": {\n",
      "                    \"default\": \"Polygon\",\n",
      "                    \"description\": \"Always a Polygon\",\n",
      "                    \"type\": \"string\"\n",
      "                }\n",
      "            },\n",
      "            \"required\": [\n",
      "                \"type\",\n",
      "                \"coordinates\"\n",
      "            ],\n",
      "            \"type\": \"object\"\n",
      "        },\n",
      "        \"imageId\": {\n",
      "            \"description\": \"Image ID\",\n",
      "            \"type\": \"string\"\n",
      "        },\n",
      "        \"maskDatasetId\": {\n",
      "            \"description\": \"Dataset ID used as image mask\",\n",
      "            \"type\": \"string\"\n",
      "        },\n",
      "        \"name\": {\n",
      "            \"description\": \"Job name\",\n",
      "            \"type\": \"string\"\n",
      "        },\n",
      "        \"projectId\": {\n",
      "            \"description\": \"Project ID\",\n",
      "            \"type\": \"string\"\n",
      "        }\n",
      "    },\n",
      "    \"required\": [\n",
      "        \"name\",\n",
      "        \"imageId\",\n",
      "        \"geom\"\n",
      "    ],\n",
      "    \"title\": \"job-object-detection-input\",\n",
      "    \"type\": \"object\"\n",
      "}\n"
     ]
    }
   ],
   "source": [
    "print_json(r['input'])"
   ]
  },
  {
   "cell_type": "markdown",
   "metadata": {},
   "source": [
    "### Description of output of this process (not implemented)"
   ]
  },
  {
   "cell_type": "code",
   "execution_count": 10,
   "metadata": {},
   "outputs": [
    {
     "name": "stdout",
     "output_type": "stream",
     "text": [
      "null\n"
     ]
    }
   ],
   "source": [
    "# TODO: this field should contain information about the output format of the process\n",
    "print_json(r['output'])"
   ]
  },
  {
   "cell_type": "markdown",
   "metadata": {},
   "source": [
    "### Description of available actions on this process"
   ]
  },
  {
   "cell_type": "code",
   "execution_count": 11,
   "metadata": {},
   "outputs": [
    {
     "name": "stdout",
     "output_type": "stream",
     "text": [
      "{\n",
      "    \"delete\": {\n",
      "        \"href\": \"https://playground-api-gateway.playground.airbusds-geo.com/api/v1/processes/7bfacb17-7ecf-4952-b7bd-53f71cccd0e0?projectId=e84b4d54-4c99-4527-8be7-927a11a73897\",\n",
      "        \"method\": \"DELETE\",\n",
      "        \"relation\": \"Delete the process\",\n",
      "        \"type\": \"application/json\"\n",
      "    },\n",
      "    \"jobs\": {\n",
      "        \"href\": \"https://playground-api-gateway.playground.airbusds-geo.com/api/v1/processes/7bfacb17-7ecf-4952-b7bd-53f71cccd0e0/jobs?projectId=e84b4d54-4c99-4527-8be7-927a11a73897\",\n",
      "        \"method\": \"GET\",\n",
      "        \"relation\": \"Return the list of all process' jobs\",\n",
      "        \"type\": \"application/json\"\n",
      "    },\n",
      "    \"list\": {\n",
      "        \"href\": \"https://playground-api-gateway.playground.airbusds-geo.com/api/v1/processes/7bfacb17-7ecf-4952-b7bd-53f71cccd0e0/jobs?projectId=e84b4d54-4c99-4527-8be7-927a11a73897\",\n",
      "        \"method\": \"POST\",\n",
      "        \"relation\": \"Make a job request that should be queued for future execution\",\n",
      "        \"type\": \"application/json\"\n",
      "    },\n",
      "    \"runNewJob\": {\n",
      "        \"href\": \"https://playground-api-gateway.playground.airbusds-geo.com/api/v1/processes?projectId=e84b4d54-4c99-4527-8be7-927a11a73897\",\n",
      "        \"method\": \"GET\",\n",
      "        \"relation\": \"Return the list of all processes\",\n",
      "        \"type\": \"application/json\"\n",
      "    },\n",
      "    \"self\": {\n",
      "        \"href\": \"https://playground-api-gateway.playground.airbusds-geo.com/api/v1/processes/7bfacb17-7ecf-4952-b7bd-53f71cccd0e0?projectId=e84b4d54-4c99-4527-8be7-927a11a73897\",\n",
      "        \"method\": \"GET\",\n",
      "        \"relation\": \"Return the process information\",\n",
      "        \"type\": \"application/json\"\n",
      "    },\n",
      "    \"update\": {\n",
      "        \"href\": \"https://playground-api-gateway.playground.airbusds-geo.com/api/v1/processes/7bfacb17-7ecf-4952-b7bd-53f71cccd0e0?projectId=e84b4d54-4c99-4527-8be7-927a11a73897\",\n",
      "        \"method\": \"PUT\",\n",
      "        \"relation\": \"Update the process\",\n",
      "        \"type\": \"application/json\"\n",
      "    }\n",
      "}\n"
     ]
    }
   ],
   "source": [
    "print_json(r['_links'])"
   ]
  },
  {
   "cell_type": "markdown",
   "metadata": {},
   "source": [
    "## Searching for jobs"
   ]
  },
  {
   "cell_type": "code",
   "execution_count": 12,
   "metadata": {},
   "outputs": [
    {
     "name": "stdout",
     "output_type": "stream",
     "text": [
      "There are 65 jobs for the selected project.\n",
      "65\n"
     ]
    },
    {
     "data": {
      "application/vnd.jupyter.widget-view+json": {
       "model_id": "1699716ad5634b0494fa8e797f94b906",
       "version_major": 2,
       "version_minor": 0
      },
      "text/plain": [
       "Dropdown(description='Jobs:', options=(('Adam (3. Ship Detection v5.0 - high recall) -> 7130 tiles', '0502d971…"
      ]
     },
     "metadata": {},
     "output_type": "display_data"
    }
   ],
   "source": [
    "r = play.get_jobs_count(projectId)\n",
    "print(\"There are {} jobs for the selected project.\".format(r['count']))\n",
    "\n",
    "r = play.get_jobs(projectId, pageSize = 100)\n",
    "#print_json(r)\n",
    "\n",
    "job_database = {}\n",
    "job_label = []\n",
    "for job in r:\n",
    "    job_id = job['job_id']\n",
    "    job_label.append((\"{} ({}) -> {} tiles\".format(job[\"name\"], job[\"process\"][\"name\"], job[\"tiles_estimated\"]), job_id))\n",
    "    a_database[job_id] = job\n",
    "    \n",
    "job_label.sort() \n",
    "job_w = widgets.Dropdown(\n",
    "    options=job_label,\n",
    "    description='Jobs:',\n",
    "    disabled=False\n",
    ")\n",
    "display(job_w)"
   ]
  },
  {
   "cell_type": "code",
   "execution_count": null,
   "metadata": {},
   "outputs": [],
   "source": []
  }
 ],
 "metadata": {
  "kernelspec": {
   "display_name": "Python 3",
   "language": "python",
   "name": "python3"
  },
  "language_info": {
   "codemirror_mode": {
    "name": "ipython",
    "version": 3
   },
   "file_extension": ".py",
   "mimetype": "text/x-python",
   "name": "python",
   "nbconvert_exporter": "python",
   "pygments_lexer": "ipython3",
   "version": "3.6.9"
  }
 },
 "nbformat": 4,
 "nbformat_minor": 4
}
